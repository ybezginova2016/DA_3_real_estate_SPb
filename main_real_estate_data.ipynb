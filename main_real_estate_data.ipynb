{
 "cells": [
  {
   "cell_type": "markdown",
   "id": "7d7f6009",
   "metadata": {},
   "source": [
    "# Reseach of sale advertisements of apartments in St. Petersburg, Russia\n",
    "\n",
    "The data is collected from Yandex.RealEstate service - an archive of ads for the sale of apartments in St. Petersburg and nearest towns for several years. We need to learn how to determine the market value of real estate. Our job is to set the parameters. This will help to build an automated system in the future for tracking anomalies and market frauds.\n",
    "\n",
    "Two types of data are available for each apartment for sale. The first one is entered by the user manually, the second one is obtained automatically on the basis of cartographic data. For example, the distance to the center, airport, nearest park and the river."
   ]
  },
  {
   "cell_type": "markdown",
   "id": "3ec71f54",
   "metadata": {},
   "source": [
    "### 1. Open the file and get a general infomation about the dataset."
   ]
  },
  {
   "cell_type": "code",
   "execution_count": 194,
   "id": "eed20393",
   "metadata": {},
   "outputs": [
    {
     "name": "stdout",
     "output_type": "stream",
     "text": [
      "      total_images\\tlast_price\\ttotal_area\\tfirst_day_exposition\\trooms\\tceiling_height\\tfloors_total\\tliving_area\\tfloor\\tis_apartment\\tstudio\\topen_plan\\tkitchen_area\\tbalcony\\tlocality_name\\tairports_nearest\\tcityCenters_nearest\\tparks_around3000\\tparks_nearest\\tponds_around3000\\tponds_nearest\\tdays_exposition\n",
      "10493  5\\t1450000.0\\t30.8\\t2018-07-12T00:00:00\\t1\\t2....                                                                                                                                                                                                                                                                  \n",
      "22672  12\\t2750000.0\\t53.0\\t2017-02-12T00:00:00\\t2\\t\\...                                                                                                                                                                                                                                                                  \n",
      "21424  13\\t21000000.0\\t118.9\\t2017-11-27T00:00:00\\t4\\...                                                                                                                                                                                                                                                                  \n",
      "10396  0\\t4690000.0\\t38.0\\t2016-11-25T00:00:00\\t1\\t\\t...                                                                                                                                                                                                                                                                  \n",
      "3618   16\\t4000000.0\\t75.03\\t2014-12-15T00:00:00\\t2\\t...                                                                                                                                                                                                                                                                  \n",
      "8372   19\\t1650000.0\\t40.0\\t2018-01-21T00:00:00\\t1\\t\\...                                                                                                                                                                                                                                                                  \n",
      "1166   10\\t2900000.0\\t47.2\\t2018-03-21T00:00:00\\t2\\t2...                                                                                                                                                                                                                                                                  \n",
      "9179   0\\t2150000.0\\t33.5\\t2018-08-04T00:00:00\\t1\\t2....                                                                                                                                                                                                                                                                  \n",
      "20250  5\\t6060000.0\\t60.6\\t2015-10-29T00:00:00\\t2\\t2....                                                                                                                                                                                                                                                                  \n",
      "11232  11\\t4100000.0\\t45.5\\t2017-10-18T00:00:00\\t2\\t2...                                                                                                                                                                                                                                                                  \n"
     ]
    }
   ],
   "source": [
    "import pandas as pd\n",
    "data = pd.read_csv('/Users/yuliabezginova/PycharmProjects/project-2_real_estate_SPb/real_estate_data.csv')\n",
    "print(data.sample(10))"
   ]
  },
  {
   "cell_type": "markdown",
   "id": "6eef9ab8",
   "metadata": {},
   "source": [
    "We can see that the data requires a separation sep='\\t'"
   ]
  },
  {
   "cell_type": "code",
   "execution_count": 195,
   "id": "7e5e75e6",
   "metadata": {},
   "outputs": [
    {
     "data": {
      "text/html": [
       "<div>\n",
       "<style scoped>\n",
       "    .dataframe tbody tr th:only-of-type {\n",
       "        vertical-align: middle;\n",
       "    }\n",
       "\n",
       "    .dataframe tbody tr th {\n",
       "        vertical-align: top;\n",
       "    }\n",
       "\n",
       "    .dataframe thead th {\n",
       "        text-align: right;\n",
       "    }\n",
       "</style>\n",
       "<table border=\"1\" class=\"dataframe\">\n",
       "  <thead>\n",
       "    <tr style=\"text-align: right;\">\n",
       "      <th></th>\n",
       "      <th>total_images</th>\n",
       "      <th>last_price</th>\n",
       "      <th>total_area</th>\n",
       "      <th>first_day_exposition</th>\n",
       "      <th>rooms</th>\n",
       "      <th>ceiling_height</th>\n",
       "      <th>floors_total</th>\n",
       "      <th>living_area</th>\n",
       "      <th>floor</th>\n",
       "      <th>is_apartment</th>\n",
       "      <th>...</th>\n",
       "      <th>kitchen_area</th>\n",
       "      <th>balcony</th>\n",
       "      <th>locality_name</th>\n",
       "      <th>airports_nearest</th>\n",
       "      <th>cityCenters_nearest</th>\n",
       "      <th>parks_around3000</th>\n",
       "      <th>parks_nearest</th>\n",
       "      <th>ponds_around3000</th>\n",
       "      <th>ponds_nearest</th>\n",
       "      <th>days_exposition</th>\n",
       "    </tr>\n",
       "  </thead>\n",
       "  <tbody>\n",
       "    <tr>\n",
       "      <th>0</th>\n",
       "      <td>20</td>\n",
       "      <td>13000000.0</td>\n",
       "      <td>108.00</td>\n",
       "      <td>2019-03-07T00:00:00</td>\n",
       "      <td>3</td>\n",
       "      <td>2.70</td>\n",
       "      <td>16.0</td>\n",
       "      <td>51.0</td>\n",
       "      <td>8</td>\n",
       "      <td>NaN</td>\n",
       "      <td>...</td>\n",
       "      <td>25.00</td>\n",
       "      <td>NaN</td>\n",
       "      <td>Санкт-Петербург</td>\n",
       "      <td>18863.0</td>\n",
       "      <td>16028.0</td>\n",
       "      <td>1.0</td>\n",
       "      <td>482.0</td>\n",
       "      <td>2.0</td>\n",
       "      <td>755.0</td>\n",
       "      <td>NaN</td>\n",
       "    </tr>\n",
       "    <tr>\n",
       "      <th>1</th>\n",
       "      <td>7</td>\n",
       "      <td>3350000.0</td>\n",
       "      <td>40.40</td>\n",
       "      <td>2018-12-04T00:00:00</td>\n",
       "      <td>1</td>\n",
       "      <td>NaN</td>\n",
       "      <td>11.0</td>\n",
       "      <td>18.6</td>\n",
       "      <td>1</td>\n",
       "      <td>NaN</td>\n",
       "      <td>...</td>\n",
       "      <td>11.00</td>\n",
       "      <td>2.0</td>\n",
       "      <td>посёлок Шушары</td>\n",
       "      <td>12817.0</td>\n",
       "      <td>18603.0</td>\n",
       "      <td>0.0</td>\n",
       "      <td>NaN</td>\n",
       "      <td>0.0</td>\n",
       "      <td>NaN</td>\n",
       "      <td>81.0</td>\n",
       "    </tr>\n",
       "    <tr>\n",
       "      <th>2</th>\n",
       "      <td>10</td>\n",
       "      <td>5196000.0</td>\n",
       "      <td>56.00</td>\n",
       "      <td>2015-08-20T00:00:00</td>\n",
       "      <td>2</td>\n",
       "      <td>NaN</td>\n",
       "      <td>5.0</td>\n",
       "      <td>34.3</td>\n",
       "      <td>4</td>\n",
       "      <td>NaN</td>\n",
       "      <td>...</td>\n",
       "      <td>8.30</td>\n",
       "      <td>0.0</td>\n",
       "      <td>Санкт-Петербург</td>\n",
       "      <td>21741.0</td>\n",
       "      <td>13933.0</td>\n",
       "      <td>1.0</td>\n",
       "      <td>90.0</td>\n",
       "      <td>2.0</td>\n",
       "      <td>574.0</td>\n",
       "      <td>558.0</td>\n",
       "    </tr>\n",
       "    <tr>\n",
       "      <th>3</th>\n",
       "      <td>0</td>\n",
       "      <td>64900000.0</td>\n",
       "      <td>159.00</td>\n",
       "      <td>2015-07-24T00:00:00</td>\n",
       "      <td>3</td>\n",
       "      <td>NaN</td>\n",
       "      <td>14.0</td>\n",
       "      <td>NaN</td>\n",
       "      <td>9</td>\n",
       "      <td>NaN</td>\n",
       "      <td>...</td>\n",
       "      <td>NaN</td>\n",
       "      <td>0.0</td>\n",
       "      <td>Санкт-Петербург</td>\n",
       "      <td>28098.0</td>\n",
       "      <td>6800.0</td>\n",
       "      <td>2.0</td>\n",
       "      <td>84.0</td>\n",
       "      <td>3.0</td>\n",
       "      <td>234.0</td>\n",
       "      <td>424.0</td>\n",
       "    </tr>\n",
       "    <tr>\n",
       "      <th>4</th>\n",
       "      <td>2</td>\n",
       "      <td>10000000.0</td>\n",
       "      <td>100.00</td>\n",
       "      <td>2018-06-19T00:00:00</td>\n",
       "      <td>2</td>\n",
       "      <td>3.03</td>\n",
       "      <td>14.0</td>\n",
       "      <td>32.0</td>\n",
       "      <td>13</td>\n",
       "      <td>NaN</td>\n",
       "      <td>...</td>\n",
       "      <td>41.00</td>\n",
       "      <td>NaN</td>\n",
       "      <td>Санкт-Петербург</td>\n",
       "      <td>31856.0</td>\n",
       "      <td>8098.0</td>\n",
       "      <td>2.0</td>\n",
       "      <td>112.0</td>\n",
       "      <td>1.0</td>\n",
       "      <td>48.0</td>\n",
       "      <td>121.0</td>\n",
       "    </tr>\n",
       "    <tr>\n",
       "      <th>...</th>\n",
       "      <td>...</td>\n",
       "      <td>...</td>\n",
       "      <td>...</td>\n",
       "      <td>...</td>\n",
       "      <td>...</td>\n",
       "      <td>...</td>\n",
       "      <td>...</td>\n",
       "      <td>...</td>\n",
       "      <td>...</td>\n",
       "      <td>...</td>\n",
       "      <td>...</td>\n",
       "      <td>...</td>\n",
       "      <td>...</td>\n",
       "      <td>...</td>\n",
       "      <td>...</td>\n",
       "      <td>...</td>\n",
       "      <td>...</td>\n",
       "      <td>...</td>\n",
       "      <td>...</td>\n",
       "      <td>...</td>\n",
       "      <td>...</td>\n",
       "    </tr>\n",
       "    <tr>\n",
       "      <th>23694</th>\n",
       "      <td>9</td>\n",
       "      <td>9700000.0</td>\n",
       "      <td>133.81</td>\n",
       "      <td>2017-03-21T00:00:00</td>\n",
       "      <td>3</td>\n",
       "      <td>3.70</td>\n",
       "      <td>5.0</td>\n",
       "      <td>73.3</td>\n",
       "      <td>3</td>\n",
       "      <td>NaN</td>\n",
       "      <td>...</td>\n",
       "      <td>13.83</td>\n",
       "      <td>NaN</td>\n",
       "      <td>Санкт-Петербург</td>\n",
       "      <td>24665.0</td>\n",
       "      <td>4232.0</td>\n",
       "      <td>1.0</td>\n",
       "      <td>796.0</td>\n",
       "      <td>3.0</td>\n",
       "      <td>381.0</td>\n",
       "      <td>NaN</td>\n",
       "    </tr>\n",
       "    <tr>\n",
       "      <th>23695</th>\n",
       "      <td>14</td>\n",
       "      <td>3100000.0</td>\n",
       "      <td>59.00</td>\n",
       "      <td>2018-01-15T00:00:00</td>\n",
       "      <td>3</td>\n",
       "      <td>NaN</td>\n",
       "      <td>5.0</td>\n",
       "      <td>38.0</td>\n",
       "      <td>4</td>\n",
       "      <td>NaN</td>\n",
       "      <td>...</td>\n",
       "      <td>8.50</td>\n",
       "      <td>NaN</td>\n",
       "      <td>Тосно</td>\n",
       "      <td>NaN</td>\n",
       "      <td>NaN</td>\n",
       "      <td>NaN</td>\n",
       "      <td>NaN</td>\n",
       "      <td>NaN</td>\n",
       "      <td>NaN</td>\n",
       "      <td>45.0</td>\n",
       "    </tr>\n",
       "    <tr>\n",
       "      <th>23696</th>\n",
       "      <td>18</td>\n",
       "      <td>2500000.0</td>\n",
       "      <td>56.70</td>\n",
       "      <td>2018-02-11T00:00:00</td>\n",
       "      <td>2</td>\n",
       "      <td>NaN</td>\n",
       "      <td>3.0</td>\n",
       "      <td>29.7</td>\n",
       "      <td>1</td>\n",
       "      <td>NaN</td>\n",
       "      <td>...</td>\n",
       "      <td>NaN</td>\n",
       "      <td>NaN</td>\n",
       "      <td>село Рождествено</td>\n",
       "      <td>NaN</td>\n",
       "      <td>NaN</td>\n",
       "      <td>NaN</td>\n",
       "      <td>NaN</td>\n",
       "      <td>NaN</td>\n",
       "      <td>NaN</td>\n",
       "      <td>NaN</td>\n",
       "    </tr>\n",
       "    <tr>\n",
       "      <th>23697</th>\n",
       "      <td>13</td>\n",
       "      <td>11475000.0</td>\n",
       "      <td>76.75</td>\n",
       "      <td>2017-03-28T00:00:00</td>\n",
       "      <td>2</td>\n",
       "      <td>3.00</td>\n",
       "      <td>17.0</td>\n",
       "      <td>NaN</td>\n",
       "      <td>12</td>\n",
       "      <td>NaN</td>\n",
       "      <td>...</td>\n",
       "      <td>23.30</td>\n",
       "      <td>2.0</td>\n",
       "      <td>Санкт-Петербург</td>\n",
       "      <td>39140.0</td>\n",
       "      <td>10364.0</td>\n",
       "      <td>2.0</td>\n",
       "      <td>173.0</td>\n",
       "      <td>3.0</td>\n",
       "      <td>196.0</td>\n",
       "      <td>602.0</td>\n",
       "    </tr>\n",
       "    <tr>\n",
       "      <th>23698</th>\n",
       "      <td>4</td>\n",
       "      <td>1350000.0</td>\n",
       "      <td>32.30</td>\n",
       "      <td>2017-07-21T00:00:00</td>\n",
       "      <td>1</td>\n",
       "      <td>2.50</td>\n",
       "      <td>5.0</td>\n",
       "      <td>12.3</td>\n",
       "      <td>1</td>\n",
       "      <td>NaN</td>\n",
       "      <td>...</td>\n",
       "      <td>9.00</td>\n",
       "      <td>NaN</td>\n",
       "      <td>поселок Новый Учхоз</td>\n",
       "      <td>NaN</td>\n",
       "      <td>NaN</td>\n",
       "      <td>NaN</td>\n",
       "      <td>NaN</td>\n",
       "      <td>NaN</td>\n",
       "      <td>NaN</td>\n",
       "      <td>NaN</td>\n",
       "    </tr>\n",
       "  </tbody>\n",
       "</table>\n",
       "<p>23699 rows × 22 columns</p>\n",
       "</div>"
      ],
      "text/plain": [
       "       total_images  last_price  total_area first_day_exposition  rooms  \\\n",
       "0                20  13000000.0      108.00  2019-03-07T00:00:00      3   \n",
       "1                 7   3350000.0       40.40  2018-12-04T00:00:00      1   \n",
       "2                10   5196000.0       56.00  2015-08-20T00:00:00      2   \n",
       "3                 0  64900000.0      159.00  2015-07-24T00:00:00      3   \n",
       "4                 2  10000000.0      100.00  2018-06-19T00:00:00      2   \n",
       "...             ...         ...         ...                  ...    ...   \n",
       "23694             9   9700000.0      133.81  2017-03-21T00:00:00      3   \n",
       "23695            14   3100000.0       59.00  2018-01-15T00:00:00      3   \n",
       "23696            18   2500000.0       56.70  2018-02-11T00:00:00      2   \n",
       "23697            13  11475000.0       76.75  2017-03-28T00:00:00      2   \n",
       "23698             4   1350000.0       32.30  2017-07-21T00:00:00      1   \n",
       "\n",
       "       ceiling_height  floors_total  living_area  floor is_apartment  ...  \\\n",
       "0                2.70          16.0         51.0      8          NaN  ...   \n",
       "1                 NaN          11.0         18.6      1          NaN  ...   \n",
       "2                 NaN           5.0         34.3      4          NaN  ...   \n",
       "3                 NaN          14.0          NaN      9          NaN  ...   \n",
       "4                3.03          14.0         32.0     13          NaN  ...   \n",
       "...               ...           ...          ...    ...          ...  ...   \n",
       "23694            3.70           5.0         73.3      3          NaN  ...   \n",
       "23695             NaN           5.0         38.0      4          NaN  ...   \n",
       "23696             NaN           3.0         29.7      1          NaN  ...   \n",
       "23697            3.00          17.0          NaN     12          NaN  ...   \n",
       "23698            2.50           5.0         12.3      1          NaN  ...   \n",
       "\n",
       "       kitchen_area  balcony        locality_name  airports_nearest  \\\n",
       "0             25.00      NaN      Санкт-Петербург           18863.0   \n",
       "1             11.00      2.0       посёлок Шушары           12817.0   \n",
       "2              8.30      0.0      Санкт-Петербург           21741.0   \n",
       "3               NaN      0.0      Санкт-Петербург           28098.0   \n",
       "4             41.00      NaN      Санкт-Петербург           31856.0   \n",
       "...             ...      ...                  ...               ...   \n",
       "23694         13.83      NaN      Санкт-Петербург           24665.0   \n",
       "23695          8.50      NaN                Тосно               NaN   \n",
       "23696           NaN      NaN     село Рождествено               NaN   \n",
       "23697         23.30      2.0      Санкт-Петербург           39140.0   \n",
       "23698          9.00      NaN  поселок Новый Учхоз               NaN   \n",
       "\n",
       "      cityCenters_nearest  parks_around3000  parks_nearest  ponds_around3000  \\\n",
       "0                 16028.0               1.0          482.0               2.0   \n",
       "1                 18603.0               0.0            NaN               0.0   \n",
       "2                 13933.0               1.0           90.0               2.0   \n",
       "3                  6800.0               2.0           84.0               3.0   \n",
       "4                  8098.0               2.0          112.0               1.0   \n",
       "...                   ...               ...            ...               ...   \n",
       "23694              4232.0               1.0          796.0               3.0   \n",
       "23695                 NaN               NaN            NaN               NaN   \n",
       "23696                 NaN               NaN            NaN               NaN   \n",
       "23697             10364.0               2.0          173.0               3.0   \n",
       "23698                 NaN               NaN            NaN               NaN   \n",
       "\n",
       "       ponds_nearest  days_exposition  \n",
       "0              755.0              NaN  \n",
       "1                NaN             81.0  \n",
       "2              574.0            558.0  \n",
       "3              234.0            424.0  \n",
       "4               48.0            121.0  \n",
       "...              ...              ...  \n",
       "23694          381.0              NaN  \n",
       "23695            NaN             45.0  \n",
       "23696            NaN              NaN  \n",
       "23697          196.0            602.0  \n",
       "23698            NaN              NaN  \n",
       "\n",
       "[23699 rows x 22 columns]"
      ]
     },
     "execution_count": 195,
     "metadata": {},
     "output_type": "execute_result"
    }
   ],
   "source": [
    "data = pd.read_csv('/Users/yuliabezginova/PycharmProjects/project-2_real_estate_SPb/real_estate_data.csv', sep='\\t')\n",
    "data"
   ]
  },
  {
   "cell_type": "markdown",
   "id": "5f76cea6",
   "metadata": {},
   "source": [
    "#### 1.1 Изучим общую информацию о данных. Сверим, насколько формат данных соответствуют их описанию."
   ]
  },
  {
   "cell_type": "markdown",
   "id": "b75ffc69",
   "metadata": {},
   "source": [
    "#### Описание переменных\n",
    "- airports_nearest — расстояние до ближайшего аэропорта в метрах (м)\n",
    "- balcony — число балконов\n",
    "- ceiling_height — высота потолков (м)\n",
    "- cityCenters_nearest — расстояние до центра города (м)\n",
    "- days_exposition — сколько дней было размещено объявление (от публикации до снятия)\n",
    "- first_day_exposition — дата публикации\n",
    "- floor — этаж\n",
    "- floors_total — всего этажей в доме\n",
    "- is_apartment — апартаменты (булев тип)\n",
    "- kitchen_area — площадь кухни в квадратных метрах (м²)\n",
    "- last_price — цена на момент снятия с публикации\n",
    "- living_area — жилая площадь в квадратных метрах (м²)\n",
    "- locality_name — название населённого пункта\n",
    "- open_plan — свободная планировка (булев тип)\n",
    "- parks_around3000 — число парков в радиусе 3 км\n",
    "- parks_nearest — расстояние до ближайшего парка (м)\n",
    "- ponds_around3000 — число водоёмов в радиусе 3 км\n",
    "- ponds_nearest — расстояние до ближайшего водоёма (м)\n",
    "- rooms — число комнат\n",
    "- studio — квартира-студия (булев тип)\n",
    "- total_area — общая площадь квартиры в квадратных метрах (м²)\n",
    "- total_images — число фотографий квартиры в объявлении"
   ]
  },
  {
   "cell_type": "markdown",
   "id": "54d77eff",
   "metadata": {},
   "source": [
    "#### 1.2 Reconcile if the variables' desciption suits the data types"
   ]
  },
  {
   "cell_type": "code",
   "execution_count": 196,
   "id": "bdec8a23",
   "metadata": {},
   "outputs": [
    {
     "name": "stdout",
     "output_type": "stream",
     "text": [
      "<class 'pandas.core.frame.DataFrame'>\n",
      "RangeIndex: 23699 entries, 0 to 23698\n",
      "Data columns (total 22 columns):\n",
      " #   Column                Non-Null Count  Dtype  \n",
      "---  ------                --------------  -----  \n",
      " 0   total_images          23699 non-null  int64  \n",
      " 1   last_price            23699 non-null  float64\n",
      " 2   total_area            23699 non-null  float64\n",
      " 3   first_day_exposition  23699 non-null  object \n",
      " 4   rooms                 23699 non-null  int64  \n",
      " 5   ceiling_height        14504 non-null  float64\n",
      " 6   floors_total          23613 non-null  float64\n",
      " 7   living_area           21796 non-null  float64\n",
      " 8   floor                 23699 non-null  int64  \n",
      " 9   is_apartment          2775 non-null   object \n",
      " 10  studio                23699 non-null  bool   \n",
      " 11  open_plan             23699 non-null  bool   \n",
      " 12  kitchen_area          21421 non-null  float64\n",
      " 13  balcony               12180 non-null  float64\n",
      " 14  locality_name         23650 non-null  object \n",
      " 15  airports_nearest      18157 non-null  float64\n",
      " 16  cityCenters_nearest   18180 non-null  float64\n",
      " 17  parks_around3000      18181 non-null  float64\n",
      " 18  parks_nearest         8079 non-null   float64\n",
      " 19  ponds_around3000      18181 non-null  float64\n",
      " 20  ponds_nearest         9110 non-null   float64\n",
      " 21  days_exposition       20518 non-null  float64\n",
      "dtypes: bool(2), float64(14), int64(3), object(3)\n",
      "memory usage: 3.7+ MB\n"
     ]
    }
   ],
   "source": [
    "data.info() "
   ]
  },
  {
   "cell_type": "markdown",
   "id": "599162d5",
   "metadata": {},
   "source": [
    "**From the above output we can see that _non-null_ amount of inputs are different for different variable. From the maximum value we can conclude the number of observations in the dataset is 23699, however fro some variable (e.g., _'is_apartment'_, _'cityCenters_nearest'_, _'ponds_nearest'_ the number of observations is less. This means there are missings (NaN, None, empty cells) in the data.**"
   ]
  },
  {
   "cell_type": "markdown",
   "id": "a2daa1cf",
   "metadata": {},
   "source": [
    "#### 1.3 Build histograms for each variable to get an overview of a raw data given"
   ]
  },
  {
   "cell_type": "code",
   "execution_count": 197,
   "id": "d48567dc",
   "metadata": {},
   "outputs": [
    {
     "data": {
      "image/png": "[encoded data removed]",
      "text/plain": [
       "<Figure size 1080x1440 with 20 Axes>"
      ]
     },
     "metadata": {
      "needs_background": "light"
     },
     "output_type": "display_data"
    }
   ],
   "source": [
    "import pandas as pd\n",
    "data.hist(bins=50, figsize=(15, 20));\n",
    "None"
   ]
  },
  {
   "cell_type": "markdown",
   "id": "52de2b39",
   "metadata": {},
   "source": [
    "**From the histogram we can see that some variables look not ok. E. g. 'total_images', 'floors_total', 'living_area' variables definitely contains outliers. This gives an idea that we have to preprocess and clean the data first.**"
   ]
  },
  {
   "cell_type": "markdown",
   "id": "4e2a2811",
   "metadata": {},
   "source": [
    "### 2. Data Proprocessing"
   ]
  },
  {
   "cell_type": "markdown",
   "id": "b25efa6a",
   "metadata": {},
   "source": [
    "#### 2.1 Finding missing values and filling them in"
   ]
  },
  {
   "cell_type": "markdown",
   "id": "30512d08",
   "metadata": {},
   "source": [
    "Values will be originally missing from a dataset or be a product of data conversion or data manipulation. \n",
    "\n",
    "Missing data can:\n",
    "- hint at data collection errors;\n",
    "- indicate improper conversion or manipulation;\n",
    "- actually not being considered missing. \n",
    "\n",
    "_For some datasets, missing data can be listed as \"zero\", \"false\", \"not applicable\", \"entered an empty string\", amonth other posibilities._"
   ]
  },
  {
   "cell_type": "markdown",
   "id": "846bb39a",
   "metadata": {},
   "source": [
    "**There are two common methods to indicate where values in the DataFrame are missing are _isna()_ and _isnull()_.**"
   ]
  },
  {
   "cell_type": "code",
   "execution_count": 198,
   "id": "3d20ca88",
   "metadata": {},
   "outputs": [
    {
     "data": {
      "text/plain": [
       "23699"
      ]
     },
     "execution_count": 198,
     "metadata": {},
     "output_type": "execute_result"
    }
   ],
   "source": [
    "len(data) # number of observations"
   ]
  },
  {
   "cell_type": "code",
   "execution_count": 199,
   "id": "cd04c1e7",
   "metadata": {},
   "outputs": [
    {
     "data": {
      "text/plain": [
       "0    2019-03-07T00:00:00\n",
       "1    2018-12-04T00:00:00\n",
       "2    2015-08-20T00:00:00\n",
       "3    2015-07-24T00:00:00\n",
       "4    2018-06-19T00:00:00\n",
       "Name: first_day_exposition, dtype: object"
      ]
     },
     "execution_count": 199,
     "metadata": {},
     "output_type": "execute_result"
    }
   ],
   "source": [
    "data['first_day_exposition'].head(5)"
   ]
  },
  {
   "cell_type": "code",
   "execution_count": 200,
   "id": "0c5fccf6",
   "metadata": {},
   "outputs": [
    {
     "name": "stdout",
     "output_type": "stream",
     "text": [
      "   total_images  last_price  total_area first_day_exposition  rooms  \\\n",
      "0            20  13000000.0       108.0  2019-03-07T00:00:00      3   \n",
      "1             7   3350000.0        40.4  2018-12-04T00:00:00      1   \n",
      "2            10   5196000.0        56.0  2015-08-20T00:00:00      2   \n",
      "3             0  64900000.0       159.0  2015-07-24T00:00:00      3   \n",
      "4             2  10000000.0       100.0  2018-06-19T00:00:00      2   \n",
      "\n",
      "   ceiling_height  floors_total  living_area  floor is_apartment  ...  \\\n",
      "0            2.70          16.0         51.0      8          NaN  ...   \n",
      "1             NaN          11.0         18.6      1          NaN  ...   \n",
      "2             NaN           5.0         34.3      4          NaN  ...   \n",
      "3             NaN          14.0          NaN      9          NaN  ...   \n",
      "4            3.03          14.0         32.0     13          NaN  ...   \n",
      "\n",
      "     locality_name  airports_nearest  cityCenters_nearest  parks_around3000  \\\n",
      "0  Санкт-Петербург           18863.0              16028.0               1.0   \n",
      "1   посёлок Шушары           12817.0              18603.0               0.0   \n",
      "2  Санкт-Петербург           21741.0              13933.0               1.0   \n",
      "3  Санкт-Петербург           28098.0               6800.0               2.0   \n",
      "4  Санкт-Петербург           31856.0               8098.0               2.0   \n",
      "\n",
      "  parks_nearest  ponds_around3000  ponds_nearest  days_exposition  date_time  \\\n",
      "0         482.0               2.0          755.0              NaN 2019-03-07   \n",
      "1           NaN               0.0            NaN             81.0 2018-12-04   \n",
      "2          90.0               2.0          574.0            558.0 2015-08-20   \n",
      "3          84.0               3.0          234.0            424.0 2015-07-24   \n",
      "4         112.0               1.0           48.0            121.0 2018-06-19   \n",
      "\n",
      "           local_time  \n",
      "0 2019-03-07 03:00:00  \n",
      "1 2018-12-04 03:00:00  \n",
      "2 2015-08-20 03:00:00  \n",
      "3 2015-07-24 03:00:00  \n",
      "4 2018-06-19 03:00:00  \n",
      "\n",
      "[5 rows x 24 columns]\n"
     ]
    }
   ],
   "source": [
    "data['date_time'] = pd.to_datetime(data['first_day_exposition'])\n",
    "data['local_time'] = data['date_time'] + pd.Timedelta(hours=3)\n",
    "\n",
    "print(data.head(5))"
   ]
  },
  {
   "cell_type": "code",
   "execution_count": 201,
   "id": "bb543cfa",
   "metadata": {},
   "outputs": [
    {
     "data": {
      "text/plain": [
       "0    False\n",
       "1    False\n",
       "2    False\n",
       "3    False\n",
       "4    False\n",
       "Name: total_images, dtype: bool"
      ]
     },
     "execution_count": 201,
     "metadata": {},
     "output_type": "execute_result"
    }
   ],
   "source": [
    "# to indicate where exactly missing values are we use .isna() method, we have 'False' values for missings.\n",
    "data['total_images'].isna().head()"
   ]
  },
  {
   "cell_type": "code",
   "execution_count": 202,
   "id": "7f4f1237",
   "metadata": {},
   "outputs": [],
   "source": [
    "total_images_missing = data['total_images'].isna()"
   ]
  },
  {
   "cell_type": "code",
   "execution_count": 203,
   "id": "f32fbfa0",
   "metadata": {},
   "outputs": [
    {
     "data": {
      "text/html": [
       "<div>\n",
       "<style scoped>\n",
       "    .dataframe tbody tr th:only-of-type {\n",
       "        vertical-align: middle;\n",
       "    }\n",
       "\n",
       "    .dataframe tbody tr th {\n",
       "        vertical-align: top;\n",
       "    }\n",
       "\n",
       "    .dataframe thead th {\n",
       "        text-align: right;\n",
       "    }\n",
       "</style>\n",
       "<table border=\"1\" class=\"dataframe\">\n",
       "  <thead>\n",
       "    <tr style=\"text-align: right;\">\n",
       "      <th></th>\n",
       "      <th>total_images</th>\n",
       "      <th>last_price</th>\n",
       "      <th>total_area</th>\n",
       "      <th>first_day_exposition</th>\n",
       "      <th>rooms</th>\n",
       "      <th>ceiling_height</th>\n",
       "      <th>floors_total</th>\n",
       "      <th>living_area</th>\n",
       "      <th>floor</th>\n",
       "      <th>is_apartment</th>\n",
       "      <th>...</th>\n",
       "      <th>locality_name</th>\n",
       "      <th>airports_nearest</th>\n",
       "      <th>cityCenters_nearest</th>\n",
       "      <th>parks_around3000</th>\n",
       "      <th>parks_nearest</th>\n",
       "      <th>ponds_around3000</th>\n",
       "      <th>ponds_nearest</th>\n",
       "      <th>days_exposition</th>\n",
       "      <th>date_time</th>\n",
       "      <th>local_time</th>\n",
       "    </tr>\n",
       "  </thead>\n",
       "  <tbody>\n",
       "  </tbody>\n",
       "</table>\n",
       "<p>0 rows × 24 columns</p>\n",
       "</div>"
      ],
      "text/plain": [
       "Empty DataFrame\n",
       "Columns: [total_images, last_price, total_area, first_day_exposition, rooms, ceiling_height, floors_total, living_area, floor, is_apartment, studio, open_plan, kitchen_area, balcony, locality_name, airports_nearest, cityCenters_nearest, parks_around3000, parks_nearest, ponds_around3000, ponds_nearest, days_exposition, date_time, local_time]\n",
       "Index: []\n",
       "\n",
       "[0 rows x 24 columns]"
      ]
     },
     "execution_count": 203,
     "metadata": {},
     "output_type": "execute_result"
    }
   ],
   "source": [
    "# look at the rows which contain NaN\n",
    "data.loc[total_images_missing, :]"
   ]
  },
  {
   "cell_type": "code",
   "execution_count": 204,
   "id": "89a23d02",
   "metadata": {},
   "outputs": [
    {
     "data": {
      "text/plain": [
       "0"
      ]
     },
     "execution_count": 204,
     "metadata": {},
     "output_type": "execute_result"
    }
   ],
   "source": [
    "data['total_images'].isna().sum()"
   ]
  },
  {
   "cell_type": "code",
   "execution_count": 205,
   "id": "abe8a715",
   "metadata": {},
   "outputs": [
    {
     "data": {
      "text/plain": [
       "0"
      ]
     },
     "execution_count": 205,
     "metadata": {},
     "output_type": "execute_result"
    }
   ],
   "source": [
    "# check each column in the DataFrame\n",
    "data['last_price'].isna().sum()"
   ]
  },
  {
   "cell_type": "code",
   "execution_count": 206,
   "id": "1ac3764f",
   "metadata": {},
   "outputs": [
    {
     "data": {
      "text/plain": [
       "0"
      ]
     },
     "execution_count": 206,
     "metadata": {},
     "output_type": "execute_result"
    }
   ],
   "source": [
    "data['total_area'].isna().sum()"
   ]
  },
  {
   "cell_type": "code",
   "execution_count": 207,
   "id": "230772d0",
   "metadata": {},
   "outputs": [
    {
     "data": {
      "text/plain": [
       "0"
      ]
     },
     "execution_count": 207,
     "metadata": {},
     "output_type": "execute_result"
    }
   ],
   "source": [
    "data['first_day_exposition'].isna().sum()"
   ]
  },
  {
   "cell_type": "code",
   "execution_count": 208,
   "id": "0882ec2b",
   "metadata": {},
   "outputs": [
    {
     "data": {
      "text/plain": [
       "0"
      ]
     },
     "execution_count": 208,
     "metadata": {},
     "output_type": "execute_result"
    }
   ],
   "source": [
    "data['rooms'].isna().sum()"
   ]
  },
  {
   "cell_type": "code",
   "execution_count": 209,
   "id": "004a645b",
   "metadata": {},
   "outputs": [
    {
     "data": {
      "text/plain": [
       "5519"
      ]
     },
     "execution_count": 209,
     "metadata": {},
     "output_type": "execute_result"
    }
   ],
   "source": [
    "data['cityCenters_nearest'].isna().sum()"
   ]
  },
  {
   "cell_type": "code",
   "execution_count": 210,
   "id": "258be6ac",
   "metadata": {},
   "outputs": [
    {
     "data": {
      "text/plain": [
       "0.227604540275961"
      ]
     },
     "execution_count": 210,
     "metadata": {},
     "output_type": "execute_result"
    }
   ],
   "source": [
    "data['cityCenters_nearest'] = data['cityCenters_nearest'].fillna(data.groupby('locality_name')['cityCenters_nearest'].transform('median'))\n",
    "data['cityCenters_nearest'].isna().sum() / len(data)"
   ]
  },
  {
   "cell_type": "code",
   "execution_count": 211,
   "id": "76078962",
   "metadata": {},
   "outputs": [
    {
     "data": {
      "text/plain": [
       "5394"
      ]
     },
     "execution_count": 211,
     "metadata": {},
     "output_type": "execute_result"
    }
   ],
   "source": [
    "data['cityCenters_nearest'].isna().sum()"
   ]
  },
  {
   "cell_type": "markdown",
   "id": "8a47612a",
   "metadata": {},
   "source": [
    "_**When we encounter the missings in the DataFrame, we should decide how fill them in. From best practices in data science for this project we assume that if missings are less than 10% of total number of observations, we can remove them.**_\n",
    "\n",
    "_Above we have already concluded that there are 23699 observations in the given dataset._"
   ]
  },
  {
   "cell_type": "code",
   "execution_count": 212,
   "id": "8a3f24c8",
   "metadata": {},
   "outputs": [
    {
     "data": {
      "text/plain": [
       "9195"
      ]
     },
     "execution_count": 212,
     "metadata": {},
     "output_type": "execute_result"
    }
   ],
   "source": [
    "data['ceiling_height'].isna().sum() # missing values!"
   ]
  },
  {
   "cell_type": "code",
   "execution_count": 213,
   "id": "e28df235",
   "metadata": {},
   "outputs": [
    {
     "data": {
      "text/plain": [
       "0.38799105447487237"
      ]
     },
     "execution_count": 213,
     "metadata": {},
     "output_type": "execute_result"
    }
   ],
   "source": [
    "# share of missings\n",
    "data['ceiling_height'].isna().sum() / len(data)"
   ]
  },
  {
   "cell_type": "markdown",
   "id": "762f51ca",
   "metadata": {},
   "source": [
    "We can see that missing values' share is more than 10%, we thus have to fill missing values somehow."
   ]
  },
  {
   "cell_type": "code",
   "execution_count": 214,
   "id": "c855107b",
   "metadata": {},
   "outputs": [
    {
     "data": {
      "text/plain": [
       "156"
      ]
     },
     "execution_count": 214,
     "metadata": {},
     "output_type": "execute_result"
    }
   ],
   "source": [
    "#  filling missings with median value, grouping data logically\n",
    "data['ceiling_height'] = data['ceiling_height'].fillna(data.groupby('locality_name')['ceiling_height'].transform('median'))\n",
    "data['ceiling_height'].isna().sum()"
   ]
  },
  {
   "cell_type": "markdown",
   "id": "323780e9",
   "metadata": {},
   "source": [
    "Repeat filling in missings for each column by median or 0, logically grouping and making an assumption"
   ]
  },
  {
   "cell_type": "code",
   "execution_count": 215,
   "id": "f79fc3d5",
   "metadata": {},
   "outputs": [
    {
     "data": {
      "text/plain": [
       "86"
      ]
     },
     "execution_count": 215,
     "metadata": {},
     "output_type": "execute_result"
    }
   ],
   "source": [
    "data['floors_total'].isna().sum() # missing values!"
   ]
  },
  {
   "cell_type": "code",
   "execution_count": 216,
   "id": "dbaf3f59",
   "metadata": {},
   "outputs": [
    {
     "data": {
      "text/plain": [
       "0.0036288450989493226"
      ]
     },
     "execution_count": 216,
     "metadata": {},
     "output_type": "execute_result"
    }
   ],
   "source": [
    "# share of missings\n",
    "data['floors_total'].isna().sum() / len(data)"
   ]
  },
  {
   "cell_type": "code",
   "execution_count": 217,
   "id": "00f3c076",
   "metadata": {},
   "outputs": [
    {
     "data": {
      "text/plain": [
       "1903"
      ]
     },
     "execution_count": 217,
     "metadata": {},
     "output_type": "execute_result"
    }
   ],
   "source": [
    "data['living_area'].isna().sum() # missing values"
   ]
  },
  {
   "cell_type": "code",
   "execution_count": 218,
   "id": "0ef4b3c3",
   "metadata": {},
   "outputs": [
    {
     "data": {
      "text/plain": [
       "22"
      ]
     },
     "execution_count": 218,
     "metadata": {},
     "output_type": "execute_result"
    }
   ],
   "source": [
    "#  filling missings with median value, grouping data logically\n",
    "data['living_area'] = data['living_area'].fillna(data.groupby('locality_name')['living_area'].transform('median'))\n",
    "data['living_area'].isna().sum() # missing values"
   ]
  },
  {
   "cell_type": "code",
   "execution_count": 219,
   "id": "50747641",
   "metadata": {},
   "outputs": [
    {
     "data": {
      "text/plain": [
       "0"
      ]
     },
     "execution_count": 219,
     "metadata": {},
     "output_type": "execute_result"
    }
   ],
   "source": [
    "data['floor'].isna().sum() # ok"
   ]
  },
  {
   "cell_type": "code",
   "execution_count": 220,
   "id": "8970e549",
   "metadata": {},
   "outputs": [
    {
     "data": {
      "text/plain": [
       "20924"
      ]
     },
     "execution_count": 220,
     "metadata": {},
     "output_type": "execute_result"
    }
   ],
   "source": [
    "data['is_apartment'].isna().sum() # missing values!"
   ]
  },
  {
   "cell_type": "code",
   "execution_count": 221,
   "id": "31aff044",
   "metadata": {},
   "outputs": [
    {
     "data": {
      "text/plain": [
       "array([nan, False, True], dtype=object)"
      ]
     },
     "execution_count": 221,
     "metadata": {},
     "output_type": "execute_result"
    }
   ],
   "source": [
    "data['is_apartment'].unique()"
   ]
  },
  {
   "cell_type": "code",
   "execution_count": 222,
   "id": "590517e4",
   "metadata": {},
   "outputs": [
    {
     "data": {
      "text/plain": [
       "array([False,  True])"
      ]
     },
     "execution_count": 222,
     "metadata": {},
     "output_type": "execute_result"
    }
   ],
   "source": [
    "# Boolean type of variable can be filled with zeros, assuming if the client did not fill this tab, it probably means the flat is not commercial apartment type, but residential\n",
    "data['is_apartment'].fillna(False, inplace=True)\n",
    "data['is_apartment'].unique()"
   ]
  },
  {
   "cell_type": "code",
   "execution_count": 223,
   "id": "b3dc07d9",
   "metadata": {},
   "outputs": [
    {
     "data": {
      "text/plain": [
       "0"
      ]
     },
     "execution_count": 223,
     "metadata": {},
     "output_type": "execute_result"
    }
   ],
   "source": [
    "data['studio'].isna().sum() # ok"
   ]
  },
  {
   "cell_type": "code",
   "execution_count": 224,
   "id": "d65965f8",
   "metadata": {},
   "outputs": [
    {
     "data": {
      "text/plain": [
       "0"
      ]
     },
     "execution_count": 224,
     "metadata": {},
     "output_type": "execute_result"
    }
   ],
   "source": [
    "data['open_plan'].isna().sum() # ok"
   ]
  },
  {
   "cell_type": "code",
   "execution_count": 225,
   "id": "0feb9962",
   "metadata": {},
   "outputs": [
    {
     "data": {
      "text/plain": [
       "2278"
      ]
     },
     "execution_count": 225,
     "metadata": {},
     "output_type": "execute_result"
    }
   ],
   "source": [
    "data['kitchen_area'].isna().sum() # missing values!"
   ]
  },
  {
   "cell_type": "code",
   "execution_count": 226,
   "id": "5246c7cf",
   "metadata": {},
   "outputs": [
    {
     "data": {
      "text/plain": [
       "28"
      ]
     },
     "execution_count": 226,
     "metadata": {},
     "output_type": "execute_result"
    }
   ],
   "source": [
    "#  filling missings with median value, grouping data logically\n",
    "data['kitchen_area'] = data['kitchen_area'].fillna(data.groupby('locality_name')['kitchen_area'].transform('median'))\n",
    "data['kitchen_area'].isna().sum()"
   ]
  },
  {
   "cell_type": "code",
   "execution_count": 227,
   "id": "8615381d",
   "metadata": {},
   "outputs": [
    {
     "data": {
      "text/plain": [
       "11519"
      ]
     },
     "execution_count": 227,
     "metadata": {},
     "output_type": "execute_result"
    }
   ],
   "source": [
    "data['balcony'].isna().sum() # missing values!"
   ]
  },
  {
   "cell_type": "code",
   "execution_count": 228,
   "id": "b0cc3971",
   "metadata": {
    "scrolled": true
   },
   "outputs": [
    {
     "data": {
      "text/plain": [
       "array([nan,  2.,  0.,  1.,  5.,  4.,  3.])"
      ]
     },
     "execution_count": 228,
     "metadata": {},
     "output_type": "execute_result"
    }
   ],
   "source": [
    "data['balcony'].unique()"
   ]
  },
  {
   "cell_type": "code",
   "execution_count": 229,
   "id": "e5d37cc3",
   "metadata": {},
   "outputs": [],
   "source": [
    "# We assume that if the owner or his/her agent did not fill in the number of balconies field, there might be no balconies in the apartment at all."
   ]
  },
  {
   "cell_type": "code",
   "execution_count": 230,
   "id": "a042199d",
   "metadata": {},
   "outputs": [
    {
     "data": {
      "text/plain": [
       "array([0., 2., 1., 5., 4., 3.])"
      ]
     },
     "execution_count": 230,
     "metadata": {},
     "output_type": "execute_result"
    }
   ],
   "source": [
    "data['balcony'].fillna(0, inplace=True)\n",
    "data['balcony'].unique()"
   ]
  },
  {
   "cell_type": "code",
   "execution_count": 231,
   "id": "804e441a",
   "metadata": {},
   "outputs": [
    {
     "data": {
      "text/plain": [
       "49"
      ]
     },
     "execution_count": 231,
     "metadata": {},
     "output_type": "execute_result"
    }
   ],
   "source": [
    "data['locality_name'].isna().sum() # missing values!"
   ]
  },
  {
   "cell_type": "code",
   "execution_count": 169,
   "id": "bbb1901c",
   "metadata": {
    "scrolled": false
   },
   "outputs": [
    {
     "data": {
      "text/plain": [
       "5257"
      ]
     },
     "execution_count": 169,
     "metadata": {},
     "output_type": "execute_result"
    }
   ],
   "source": [
    "data['airports_nearest'].isna().sum() # missing values!"
   ]
  },
  {
   "cell_type": "code",
   "execution_count": 136,
   "id": "eb4a588e",
   "metadata": {},
   "outputs": [
    {
     "data": {
      "text/plain": [
       "5264"
      ]
     },
     "execution_count": 136,
     "metadata": {},
     "output_type": "execute_result"
    }
   ],
   "source": [
    "#  filling missings with median value, grouping data logically\n",
    "data['airports_nearest'] = data['airports_nearest'].fillna(data.groupby('locality_name')['airports_nearest'].transform('median'))\n",
    "data['airports_nearest'].isna().sum()"
   ]
  },
  {
   "cell_type": "code",
   "execution_count": 137,
   "id": "f1699ea7",
   "metadata": {},
   "outputs": [
    {
     "data": {
      "text/plain": [
       "5264"
      ]
     },
     "execution_count": 137,
     "metadata": {},
     "output_type": "execute_result"
    }
   ],
   "source": [
    "data['parks_around3000'].isna().sum() # missing values!"
   ]
  },
  {
   "cell_type": "code",
   "execution_count": 232,
   "id": "cf4ea359",
   "metadata": {
    "scrolled": false
   },
   "outputs": [
    {
     "data": {
      "text/plain": [
       "5394"
      ]
     },
     "execution_count": 232,
     "metadata": {},
     "output_type": "execute_result"
    }
   ],
   "source": [
    "data['parks_around3000'] = data['parks_around3000'].fillna(data.groupby('locality_name')['parks_around3000'].transform('median'))\n",
    "data['parks_around3000'].isna().sum()"
   ]
  },
  {
   "cell_type": "code",
   "execution_count": 233,
   "id": "7d3a3575",
   "metadata": {},
   "outputs": [
    {
     "data": {
      "text/plain": [
       "336"
      ]
     },
     "execution_count": 233,
     "metadata": {},
     "output_type": "execute_result"
    }
   ],
   "source": [
    "a = data.groupby('locality_name').median()\n",
    "a['parks_around3000'].isna().sum()"
   ]
  },
  {
   "cell_type": "code",
   "execution_count": 234,
   "id": "2fec8791",
   "metadata": {},
   "outputs": [
    {
     "data": {
      "text/plain": [
       "15620"
      ]
     },
     "execution_count": 234,
     "metadata": {},
     "output_type": "execute_result"
    }
   ],
   "source": [
    "data['parks_nearest'].isna().sum() # missing values!"
   ]
  },
  {
   "cell_type": "code",
   "execution_count": 235,
   "id": "eb090896",
   "metadata": {},
   "outputs": [
    {
     "data": {
      "text/plain": [
       "6032"
      ]
     },
     "execution_count": 235,
     "metadata": {},
     "output_type": "execute_result"
    }
   ],
   "source": [
    "data['parks_nearest'] = data['parks_nearest'].fillna(data.groupby('locality_name')['parks_nearest'].transform('median'))\n",
    "data['parks_nearest'].isna().sum()"
   ]
  },
  {
   "cell_type": "code",
   "execution_count": 236,
   "id": "b4cbd255",
   "metadata": {},
   "outputs": [
    {
     "data": {
      "text/plain": [
       "5518"
      ]
     },
     "execution_count": 236,
     "metadata": {},
     "output_type": "execute_result"
    }
   ],
   "source": [
    "data['ponds_around3000'].isna().sum() # missing values!"
   ]
  },
  {
   "cell_type": "code",
   "execution_count": 237,
   "id": "40a85da6",
   "metadata": {},
   "outputs": [
    {
     "data": {
      "text/plain": [
       "5518"
      ]
     },
     "execution_count": 237,
     "metadata": {},
     "output_type": "execute_result"
    }
   ],
   "source": [
    "data['ponds_around3000'] = data['ponds_around3000'].fillna(data.groupby('locality_name')['ponds_around3000'].median())\n",
    "data['ponds_around3000'].isna().sum()"
   ]
  },
  {
   "cell_type": "code",
   "execution_count": 238,
   "id": "2d21d62e",
   "metadata": {},
   "outputs": [
    {
     "data": {
      "text/plain": [
       "14589"
      ]
     },
     "execution_count": 238,
     "metadata": {},
     "output_type": "execute_result"
    }
   ],
   "source": [
    "data['ponds_nearest'].isna().sum() # missing values!"
   ]
  },
  {
   "cell_type": "code",
   "execution_count": 239,
   "id": "9fca982a",
   "metadata": {},
   "outputs": [
    {
     "data": {
      "text/plain": [
       "14589"
      ]
     },
     "execution_count": 239,
     "metadata": {},
     "output_type": "execute_result"
    }
   ],
   "source": [
    "data['ponds_nearest'] = data['ponds_nearest'].fillna(data.groupby('locality_name')['ponds_nearest'].median())\n",
    "data['ponds_nearest'].isna().sum()"
   ]
  },
  {
   "cell_type": "code",
   "execution_count": 240,
   "id": "b061a2ee",
   "metadata": {},
   "outputs": [
    {
     "data": {
      "text/plain": [
       "3181"
      ]
     },
     "execution_count": 240,
     "metadata": {},
     "output_type": "execute_result"
    }
   ],
   "source": [
    "data['days_exposition'].isna().sum() # missing values!"
   ]
  },
  {
   "cell_type": "code",
   "execution_count": 241,
   "id": "2b4c4d80",
   "metadata": {},
   "outputs": [
    {
     "data": {
      "text/plain": [
       "81"
      ]
     },
     "execution_count": 241,
     "metadata": {},
     "output_type": "execute_result"
    }
   ],
   "source": [
    "data['days_exposition'] = data['days_exposition'].fillna(data.groupby('locality_name')['days_exposition'].transform('median'))\n",
    "data['days_exposition'].isna().sum()"
   ]
  },
  {
   "cell_type": "code",
   "execution_count": 242,
   "id": "77d6ed94",
   "metadata": {},
   "outputs": [
    {
     "data": {
      "text/plain": [
       "5394"
      ]
     },
     "execution_count": 242,
     "metadata": {},
     "output_type": "execute_result"
    }
   ],
   "source": [
    "data['cityCenters_nearest'].isna().sum() # missing values!"
   ]
  },
  {
   "cell_type": "code",
   "execution_count": 246,
   "id": "c45d2604",
   "metadata": {},
   "outputs": [
    {
     "data": {
      "text/plain": [
       "0.227604540275961"
      ]
     },
     "execution_count": 246,
     "metadata": {},
     "output_type": "execute_result"
    }
   ],
   "source": [
    "data['cityCenters_nearest'] = data['cityCenters_nearest'].fillna(data.groupby('locality_name')['cityCenters_nearest'].transform('mean'))\n",
    "data['cityCenters_nearest'].isna().sum() / len(data)"
   ]
  },
  {
   "cell_type": "code",
   "execution_count": 179,
   "id": "195b18d1",
   "metadata": {},
   "outputs": [
    {
     "name": "stdout",
     "output_type": "stream",
     "text": [
      "0\n",
      "0\n",
      "0\n",
      "0\n",
      "0\n",
      "0\n",
      "0\n"
     ]
    }
   ],
   "source": [
    "data = data.dropna(subset=['kitchen_area', 'locality_name', 'living_area', 'ceiling_height', 'floors_total', 'days_exposition'])\n",
    "print(data['kitchen_area'].isna().sum())\n",
    "print(data['locality_name'].isna().sum())\n",
    "print(data['living_area'].isna().sum())\n",
    "print(data['ceiling_height'].isna().sum())\n",
    "print(data['floors_total'].isna().sum())\n",
    "print(data['ceiling_height'].isna().sum())\n",
    "print(data['days_exposition'].isna().sum())"
   ]
  },
  {
   "cell_type": "code",
   "execution_count": 181,
   "id": "a1551b4e",
   "metadata": {},
   "outputs": [],
   "source": [
    "# data['kitchen_area'] = data['kitchen_area'].astype('int')\n",
    "# data['floors_total'] = data['floors_total'].astype('int')\n",
    "# data['living_area'] = data['living_area'].astype('int')\n",
    "# data['balcony'] = data['balcony'].astype('int')\n",
    "# data['airports_nearest'] = data['airports_nearest'].astype('int')\n",
    "# data['cityCenters_nearest'] = data['cityCenters_nearest'].astype('int')\n",
    "# data['parks_around3000 '] = data['parks_around3000 '].astype('int')\n",
    "# data['ponds_nearest'] = data['ponds_nearest'].astype('int')\n",
    "# data['days_exposition'] = data['days_exposition'].astype('int')"
   ]
  },
  {
   "cell_type": "markdown",
   "id": "d6d09080",
   "metadata": {},
   "source": [
    "**Missings were filled in as much as possible. Some NaNs are still left, but the share of them is insignificant, so we can leave as is and they are not trying to ruin results. Let's have a look how the data is now look like.**"
   ]
  },
  {
   "cell_type": "code",
   "execution_count": 180,
   "id": "8a12bd18",
   "metadata": {},
   "outputs": [
    {
     "name": "stdout",
     "output_type": "stream",
     "text": [
      "total_images               0\n",
      "last_price                 0\n",
      "total_area                 0\n",
      "first_day_exposition       0\n",
      "rooms                      0\n",
      "ceiling_height             0\n",
      "floors_total               0\n",
      "living_area                0\n",
      "floor                      0\n",
      "is_apartment               0\n",
      "studio                     0\n",
      "open_plan                  0\n",
      "kitchen_area               0\n",
      "balcony                    0\n",
      "locality_name              0\n",
      "airports_nearest        5193\n",
      "cityCenters_nearest     5193\n",
      "parks_around3000        5193\n",
      "parks_nearest           5796\n",
      "ponds_around3000        5193\n",
      "ponds_nearest           5297\n",
      "days_exposition            0\n",
      "date_time                  0\n",
      "local_time                 0\n",
      "dtype: int64\n"
     ]
    }
   ],
   "source": [
    "print(data.isna().sum())"
   ]
  },
  {
   "cell_type": "markdown",
   "id": "3cbdb116",
   "metadata": {},
   "source": [
    "From the final check of share of missings we can conclude that 6 variables contain 20-23% of missing values, which might be caused by manual mistakes, when people do not fill in these tabs while creating an ad:\n",
    "\n",
    "- _'airports_nearest'_\n",
    "- _'cityCenters_nearest'_\n",
    "- _'parks_around3000'_\n",
    "- _'ponds_nearest'_\n",
    "\n",
    "This bad data should be considered in further analysis."
   ]
  },
  {
   "cell_type": "markdown",
   "id": "d854cc03",
   "metadata": {},
   "source": [
    "### 2.2 Changing the type of data"
   ]
  },
  {
   "cell_type": "markdown",
   "id": "3d41bc16",
   "metadata": {},
   "source": [
    "**Let's change _float_ type of some variables to _integer_ by method _astype()_:**\n",
    "- last_price\n",
    "- total_area"
   ]
  },
  {
   "cell_type": "code",
   "execution_count": 1026,
   "id": "dff79d2a",
   "metadata": {},
   "outputs": [],
   "source": [
    "data['last_price'] = data['last_price'].astype('int')"
   ]
  },
  {
   "cell_type": "code",
   "execution_count": 1027,
   "id": "1836aa91",
   "metadata": {},
   "outputs": [],
   "source": [
    "data['total_area'] = data['total_area'].astype('int')"
   ]
  },
  {
   "cell_type": "markdown",
   "id": "691665d3",
   "metadata": {},
   "source": [
    "**Let's change _object_ type of some variables to _string_ by method _astype()_:**\n",
    "- locality_name"
   ]
  },
  {
   "cell_type": "code",
   "execution_count": 1028,
   "id": "d79e0499",
   "metadata": {},
   "outputs": [],
   "source": [
    "data['locality_name'] = data['locality_name'].astype('str')"
   ]
  },
  {
   "cell_type": "code",
   "execution_count": 1029,
   "id": "c4c2d7db",
   "metadata": {},
   "outputs": [
    {
     "name": "stdout",
     "output_type": "stream",
     "text": [
      "<class 'pandas.core.frame.DataFrame'>\n",
      "RangeIndex: 23699 entries, 0 to 23698\n",
      "Data columns (total 24 columns):\n",
      " #   Column                Non-Null Count  Dtype         \n",
      "---  ------                --------------  -----         \n",
      " 0   total_images          23699 non-null  int64         \n",
      " 1   last_price            23699 non-null  int64         \n",
      " 2   total_area            23699 non-null  int64         \n",
      " 3   first_day_exposition  23699 non-null  object        \n",
      " 4   rooms                 23699 non-null  int64         \n",
      " 5   ceiling_height        23543 non-null  float64       \n",
      " 6   floors_total          23613 non-null  float64       \n",
      " 7   living_area           23677 non-null  float64       \n",
      " 8   floor                 23699 non-null  int64         \n",
      " 9   is_apartment          23699 non-null  bool          \n",
      " 10  studio                23699 non-null  bool          \n",
      " 11  open_plan             23699 non-null  bool          \n",
      " 12  kitchen_area          23671 non-null  float64       \n",
      " 13  balcony               23699 non-null  object        \n",
      " 14  locality_name         23699 non-null  object        \n",
      " 15  airports_nearest      23699 non-null  object        \n",
      " 16  cityCenters_nearest   23699 non-null  object        \n",
      " 17  parks_around3000      23699 non-null  object        \n",
      " 18  parks_nearest         23699 non-null  object        \n",
      " 19  ponds_around3000      23699 non-null  object        \n",
      " 20  ponds_nearest         23699 non-null  object        \n",
      " 21  days_exposition       23618 non-null  float64       \n",
      " 22  date_time             23699 non-null  datetime64[ns]\n",
      " 23  local_time            23699 non-null  datetime64[ns]\n",
      "dtypes: bool(3), datetime64[ns](2), float64(5), int64(5), object(9)\n",
      "memory usage: 3.9+ MB\n"
     ]
    }
   ],
   "source": [
    "data.info()"
   ]
  },
  {
   "cell_type": "markdown",
   "id": "df2e818d",
   "metadata": {},
   "source": [
    "### 2.3 Removing duplicates. Data classification."
   ]
  },
  {
   "cell_type": "markdown",
   "id": "8fe7f450",
   "metadata": {},
   "source": [
    "**First, let's search for obvious duplicates.**"
   ]
  },
  {
   "cell_type": "code",
   "execution_count": 1030,
   "id": "a4dcd9ba",
   "metadata": {},
   "outputs": [
    {
     "data": {
      "text/plain": [
       "0"
      ]
     },
     "execution_count": 1030,
     "metadata": {},
     "output_type": "execute_result"
    }
   ],
   "source": [
    "data.duplicated().sum()"
   ]
  },
  {
   "cell_type": "markdown",
   "id": "233bd8de",
   "metadata": {},
   "source": [
    "Great! There are no obvious duplicates in the DataFrame."
   ]
  },
  {
   "cell_type": "markdown",
   "id": "b28d1042",
   "metadata": {},
   "source": [
    "**Second, let's search for latent dublicates in _'locality_name'_ variable.**"
   ]
  },
  {
   "cell_type": "code",
   "execution_count": 1031,
   "id": "d63873ff",
   "metadata": {
    "scrolled": false
   },
   "outputs": [
    {
     "data": {
      "text/plain": [
       "array(['Санкт-Петербург', 'посёлок Шушары', 'городской посёлок Янино-1',\n",
       "       'посёлок Парголово', 'посёлок Мурино', 'Ломоносов', 'Сертолово',\n",
       "       'Петергоф', 'Пушкин', 'деревня Кудрово', 'Коммунар', 'Колпино',\n",
       "       'поселок городского типа Красный Бор', 'Гатчина', 'поселок Мурино',\n",
       "       'деревня Фёдоровское', 'Выборг', 'Кронштадт', 'Кировск',\n",
       "       'деревня Новое Девяткино', 'посёлок Металлострой',\n",
       "       'посёлок городского типа Лебяжье',\n",
       "       'посёлок городского типа Сиверский', 'поселок Молодцово',\n",
       "       'поселок городского типа Кузьмоловский',\n",
       "       'садовое товарищество Новая Ропша', 'Павловск',\n",
       "       'деревня Пикколово', 'Всеволожск', 'Волхов', 'Кингисепп',\n",
       "       'Приозерск', 'Сестрорецк', 'деревня Куттузи', 'посёлок Аннино',\n",
       "       'поселок городского типа Ефимовский', 'посёлок Плодовое',\n",
       "       'деревня Заклинье', 'поселок Торковичи', 'поселок Первомайское',\n",
       "       'Красное Село', 'посёлок Понтонный', 'Сясьстрой', 'деревня Старая',\n",
       "       'деревня Лесколово', 'посёлок Новый Свет', 'Сланцы',\n",
       "       'село Путилово', 'Ивангород', 'Мурино', 'Шлиссельбург',\n",
       "       'Никольское', 'Зеленогорск', 'Сосновый Бор', 'поселок Новый Свет',\n",
       "       'деревня Оржицы', 'деревня Кальтино', 'Кудрово',\n",
       "       'поселок Романовка', 'посёлок Бугры', 'поселок Бугры',\n",
       "       'поселок городского типа Рощино', 'Кириши', 'Луга', 'Волосово',\n",
       "       'Отрадное', 'село Павлово', 'поселок Оредеж', 'село Копорье',\n",
       "       'посёлок городского типа Красный Бор', 'посёлок Молодёжное',\n",
       "       'Тихвин', 'посёлок Победа', 'деревня Нурма',\n",
       "       'поселок городского типа Синявино', 'Тосно',\n",
       "       'посёлок городского типа Кузьмоловский', 'посёлок Стрельна',\n",
       "       'Бокситогорск', 'посёлок Александровская', 'деревня Лопухинка',\n",
       "       'Пикалёво', 'поселок Терволово',\n",
       "       'поселок городского типа Советский', 'Подпорожье',\n",
       "       'посёлок Петровское', 'посёлок городского типа Токсово',\n",
       "       'поселок Сельцо', 'посёлок городского типа Вырица',\n",
       "       'деревня Кипень', 'деревня Келози', 'деревня Вартемяги',\n",
       "       'посёлок Тельмана', 'поселок Севастьяново',\n",
       "       'городской поселок Большая Ижора', 'nan',\n",
       "       'городской посёлок Павлово', 'деревня Агалатово',\n",
       "       'посёлок Новогорелово', 'городской посёлок Лесогорский',\n",
       "       'деревня Лаголово', 'поселок Цвелодубово',\n",
       "       'поселок городского типа Рахья', 'поселок городского типа Вырица',\n",
       "       'деревня Белогорка', 'поселок Заводской',\n",
       "       'городской посёлок Новоселье', 'деревня Большие Колпаны',\n",
       "       'деревня Горбунки', 'деревня Батово', 'деревня Заневка',\n",
       "       'деревня Иссад', 'Приморск', 'городской посёлок Фёдоровское',\n",
       "       'деревня Мистолово', 'Новая Ладога', 'поселок Зимитицы',\n",
       "       'поселок Барышево', 'деревня Разметелево',\n",
       "       'поселок городского типа имени Свердлова', 'деревня Пеники',\n",
       "       'поселок Рябово', 'деревня Пудомяги', 'поселок станции Корнево',\n",
       "       'деревня Низино', 'деревня Бегуницы', 'посёлок Поляны',\n",
       "       'городской посёлок Мга', 'поселок Елизаветино',\n",
       "       'посёлок городского типа Кузнечное', 'деревня Колтуши',\n",
       "       'поселок Запорожское', 'посёлок городского типа Рощино',\n",
       "       'деревня Гостилицы', 'деревня Малое Карлино',\n",
       "       'посёлок Мичуринское', 'посёлок городского типа имени Морозова',\n",
       "       'посёлок Песочный', 'посёлок Сосново', 'деревня Аро',\n",
       "       'поселок Ильичёво', 'посёлок городского типа Тайцы',\n",
       "       'деревня Малое Верево', 'деревня Извара', 'поселок станции Вещево',\n",
       "       'село Паша', 'деревня Калитино',\n",
       "       'посёлок городского типа Ульяновка', 'деревня Чудской Бор',\n",
       "       'поселок городского типа Дубровка', 'деревня Мины',\n",
       "       'поселок Войсковицы', 'посёлок городского типа имени Свердлова',\n",
       "       'деревня Коркино', 'посёлок Ропша',\n",
       "       'поселок городского типа Приладожский', 'посёлок Щеглово',\n",
       "       'посёлок Гаврилово', 'Лодейное Поле', 'деревня Рабитицы',\n",
       "       'поселок городского типа Никольский', 'деревня Кузьмолово',\n",
       "       'деревня Малые Колпаны', 'поселок Тельмана',\n",
       "       'посёлок Петро-Славянка', 'городской посёлок Назия',\n",
       "       'посёлок Репино', 'посёлок Ильичёво', 'поселок Углово',\n",
       "       'поселок Старая Малукса', 'садовое товарищество Рахья',\n",
       "       'поселок Аннино', 'поселок Победа', 'деревня Меньково',\n",
       "       'деревня Старые Бегуницы', 'посёлок Сапёрный', 'поселок Семрино',\n",
       "       'поселок Гаврилово', 'поселок Глажево', 'поселок Кобринское',\n",
       "       'деревня Гарболово', 'деревня Юкки',\n",
       "       'поселок станции Приветнинское', 'деревня Мануйлово',\n",
       "       'деревня Пчева', 'поселок Поляны', 'поселок Цвылёво',\n",
       "       'поселок Мельниково', 'посёлок Пудость', 'посёлок Усть-Луга',\n",
       "       'Светогорск', 'Любань', 'поселок Селезнёво',\n",
       "       'поселок городского типа Рябово', 'Каменногорск', 'деревня Кривко',\n",
       "       'поселок Глебычево', 'деревня Парицы', 'поселок Жилпосёлок',\n",
       "       'посёлок городского типа Мга', 'городской поселок Янино-1',\n",
       "       'посёлок Войскорово', 'село Никольское', 'посёлок Терволово',\n",
       "       'поселок Стеклянный', 'посёлок городского типа Важины',\n",
       "       'посёлок Мыза-Ивановка', 'село Русско-Высоцкое',\n",
       "       'поселок городского типа Лебяжье',\n",
       "       'поселок городского типа Форносово', 'село Старая Ладога',\n",
       "       'поселок Житково', 'городской посёлок Виллози', 'деревня Лампово',\n",
       "       'деревня Шпаньково', 'деревня Лаврики', 'посёлок Сумино',\n",
       "       'посёлок Возрождение', 'деревня Старосиверская',\n",
       "       'посёлок Кикерино', 'поселок Возрождение',\n",
       "       'деревня Старое Хинколово', 'посёлок Пригородный',\n",
       "       'посёлок Торфяное', 'городской посёлок Будогощь',\n",
       "       'поселок Суходолье', 'поселок Красная Долина', 'деревня Хапо-Ое',\n",
       "       'поселок городского типа Дружная Горка', 'поселок Лисий Нос',\n",
       "       'деревня Яльгелево', 'посёлок Стеклянный', 'село Рождествено',\n",
       "       'деревня Старополье', 'посёлок Левашово', 'деревня Сяськелево',\n",
       "       'деревня Камышовка',\n",
       "       'садоводческое некоммерческое товарищество Лесная Поляна',\n",
       "       'деревня Хязельки', 'поселок Жилгородок',\n",
       "       'посёлок городского типа Павлово', 'деревня Ялгино',\n",
       "       'поселок Новый Учхоз', 'городской посёлок Рощино',\n",
       "       'поселок Гончарово', 'поселок Почап', 'посёлок Сапёрное',\n",
       "       'посёлок Платформа 69-й километр', 'поселок Каложицы',\n",
       "       'деревня Фалилеево', 'деревня Пельгора',\n",
       "       'поселок городского типа Лесогорский', 'деревня Торошковичи',\n",
       "       'посёлок Белоостров', 'посёлок Алексеевка', 'поселок Серебрянский',\n",
       "       'поселок Лукаши', 'поселок Петровское', 'деревня Щеглово',\n",
       "       'поселок Мичуринское', 'деревня Тарасово', 'поселок Кингисеппский',\n",
       "       'посёлок при железнодорожной станции Вещево', 'поселок Ушаки',\n",
       "       'деревня Котлы', 'деревня Сижно', 'деревня Торосово',\n",
       "       'посёлок Форт Красная Горка', 'поселок городского типа Токсово',\n",
       "       'деревня Новолисино', 'посёлок станции Громово', 'деревня Глинка',\n",
       "       'посёлок Мельниково', 'поселок городского типа Назия',\n",
       "       'деревня Старая Пустошь', 'поселок Коммунары', 'поселок Починок',\n",
       "       'посёлок городского типа Вознесенье', 'деревня Разбегаево',\n",
       "       'посёлок городского типа Рябово', 'поселок Гладкое',\n",
       "       'посёлок при железнодорожной станции Приветнинское',\n",
       "       'поселок Тёсово-4', 'посёлок Жилгородок', 'деревня Бор',\n",
       "       'посёлок Коробицыно', 'деревня Большая Вруда', 'деревня Курковицы',\n",
       "       'посёлок Лисий Нос', 'городской посёлок Советский',\n",
       "       'посёлок Кобралово', 'деревня Суоранда', 'поселок Кобралово',\n",
       "       'поселок городского типа Кондратьево',\n",
       "       'коттеджный поселок Счастье', 'поселок Любань', 'деревня Реброво',\n",
       "       'деревня Зимитицы', 'деревня Тойворово', 'поселок Семиозерье',\n",
       "       'поселок Лесное', 'поселок Совхозный', 'поселок Усть-Луга',\n",
       "       'посёлок Ленинское', 'посёлок Суйда',\n",
       "       'посёлок городского типа Форносово', 'деревня Нижние Осельки',\n",
       "       'посёлок станции Свирь', 'поселок Перово', 'Высоцк',\n",
       "       'поселок Гарболово', 'село Шум', 'поселок Котельский',\n",
       "       'поселок станции Лужайка', 'деревня Большая Пустомержа',\n",
       "       'поселок Красносельское', 'деревня Вахнова Кара', 'деревня Пижма',\n",
       "       'коттеджный поселок Кивеннапа Север', 'поселок Коробицыно',\n",
       "       'поселок Ромашки', 'посёлок Перово', 'деревня Каськово',\n",
       "       'деревня Куровицы', 'посёлок Плоское', 'поселок Сумино',\n",
       "       'поселок городского типа Большая Ижора', 'поселок Кирпичное',\n",
       "       'деревня Ям-Тесово', 'деревня Раздолье', 'деревня Терпилицы',\n",
       "       'посёлок Шугозеро', 'деревня Ваганово', 'поселок Пушное',\n",
       "       'садовое товарищество Садко', 'посёлок Усть-Ижора',\n",
       "       'деревня Выскатка', 'городской посёлок Свирьстрой',\n",
       "       'поселок Громово', 'деревня Кисельня', 'посёлок Старая Малукса',\n",
       "       'деревня Трубников Бор', 'поселок Калитино',\n",
       "       'посёлок Высокоключевой', 'садовое товарищество Приладожский',\n",
       "       'посёлок Пансионат Зелёный Бор', 'деревня Ненимяки',\n",
       "       'поселок Пансионат Зелёный Бор', 'деревня Снегирёвка',\n",
       "       'деревня Рапполово', 'деревня Пустынка', 'поселок Рабитицы',\n",
       "       'деревня Большой Сабск', 'деревня Русско', 'деревня Лупполово',\n",
       "       'деревня Большое Рейзино', 'деревня Малая Романовка',\n",
       "       'поселок Дружноселье', 'поселок Пчевжа', 'поселок Володарское',\n",
       "       'деревня Нижняя', 'коттеджный посёлок Лесное', 'деревня Тихковицы',\n",
       "       'деревня Борисова Грива', 'посёлок Дзержинского'], dtype=object)"
      ]
     },
     "execution_count": 1031,
     "metadata": {},
     "output_type": "execute_result"
    }
   ],
   "source": [
    "data['locality_name'].unique()"
   ]
  },
  {
   "cell_type": "markdown",
   "id": "6046cac0",
   "metadata": {},
   "source": [
    "Let's create a new column in the DataFrame _'location'_, where we rename and classify the location names properly."
   ]
  },
  {
   "cell_type": "code",
   "execution_count": 1032,
   "id": "6992fe0c",
   "metadata": {},
   "outputs": [
    {
     "data": {
      "text/html": [
       "<div>\n",
       "<style scoped>\n",
       "    .dataframe tbody tr th:only-of-type {\n",
       "        vertical-align: middle;\n",
       "    }\n",
       "\n",
       "    .dataframe tbody tr th {\n",
       "        vertical-align: top;\n",
       "    }\n",
       "\n",
       "    .dataframe thead th {\n",
       "        text-align: right;\n",
       "    }\n",
       "</style>\n",
       "<table border=\"1\" class=\"dataframe\">\n",
       "  <thead>\n",
       "    <tr style=\"text-align: right;\">\n",
       "      <th></th>\n",
       "      <th>total_images</th>\n",
       "      <th>last_price</th>\n",
       "      <th>total_area</th>\n",
       "      <th>first_day_exposition</th>\n",
       "      <th>rooms</th>\n",
       "      <th>ceiling_height</th>\n",
       "      <th>floors_total</th>\n",
       "      <th>living_area</th>\n",
       "      <th>floor</th>\n",
       "      <th>is_apartment</th>\n",
       "      <th>...</th>\n",
       "      <th>airports_nearest</th>\n",
       "      <th>cityCenters_nearest</th>\n",
       "      <th>parks_around3000</th>\n",
       "      <th>parks_nearest</th>\n",
       "      <th>ponds_around3000</th>\n",
       "      <th>ponds_nearest</th>\n",
       "      <th>days_exposition</th>\n",
       "      <th>date_time</th>\n",
       "      <th>local_time</th>\n",
       "      <th>location</th>\n",
       "    </tr>\n",
       "  </thead>\n",
       "  <tbody>\n",
       "    <tr>\n",
       "      <th>0</th>\n",
       "      <td>20</td>\n",
       "      <td>13000000</td>\n",
       "      <td>108</td>\n",
       "      <td>2019-03-07T00:00:00</td>\n",
       "      <td>3</td>\n",
       "      <td>2.70</td>\n",
       "      <td>16.0</td>\n",
       "      <td>51.0</td>\n",
       "      <td>8</td>\n",
       "      <td>False</td>\n",
       "      <td>...</td>\n",
       "      <td>18863.0</td>\n",
       "      <td>16028.0</td>\n",
       "      <td>1.0</td>\n",
       "      <td>482.0</td>\n",
       "      <td>2.0</td>\n",
       "      <td>755.0</td>\n",
       "      <td>95.0</td>\n",
       "      <td>2019-03-07</td>\n",
       "      <td>2019-03-07 03:00:00</td>\n",
       "      <td>Санкт-Петербург</td>\n",
       "    </tr>\n",
       "    <tr>\n",
       "      <th>1</th>\n",
       "      <td>7</td>\n",
       "      <td>3350000</td>\n",
       "      <td>40</td>\n",
       "      <td>2018-12-04T00:00:00</td>\n",
       "      <td>1</td>\n",
       "      <td>2.63</td>\n",
       "      <td>11.0</td>\n",
       "      <td>18.6</td>\n",
       "      <td>1</td>\n",
       "      <td>False</td>\n",
       "      <td>...</td>\n",
       "      <td>12817.0</td>\n",
       "      <td>18603.0</td>\n",
       "      <td>0.0</td>\n",
       "      <td>False</td>\n",
       "      <td>0.0</td>\n",
       "      <td>False</td>\n",
       "      <td>81.0</td>\n",
       "      <td>2018-12-04</td>\n",
       "      <td>2018-12-04 03:00:00</td>\n",
       "      <td>посёлок Шушары</td>\n",
       "    </tr>\n",
       "    <tr>\n",
       "      <th>2</th>\n",
       "      <td>10</td>\n",
       "      <td>5196000</td>\n",
       "      <td>56</td>\n",
       "      <td>2015-08-20T00:00:00</td>\n",
       "      <td>2</td>\n",
       "      <td>2.70</td>\n",
       "      <td>5.0</td>\n",
       "      <td>34.3</td>\n",
       "      <td>4</td>\n",
       "      <td>False</td>\n",
       "      <td>...</td>\n",
       "      <td>21741.0</td>\n",
       "      <td>13933.0</td>\n",
       "      <td>1.0</td>\n",
       "      <td>90.0</td>\n",
       "      <td>2.0</td>\n",
       "      <td>574.0</td>\n",
       "      <td>558.0</td>\n",
       "      <td>2015-08-20</td>\n",
       "      <td>2015-08-20 03:00:00</td>\n",
       "      <td>Санкт-Петербург</td>\n",
       "    </tr>\n",
       "    <tr>\n",
       "      <th>3</th>\n",
       "      <td>0</td>\n",
       "      <td>64900000</td>\n",
       "      <td>159</td>\n",
       "      <td>2015-07-24T00:00:00</td>\n",
       "      <td>3</td>\n",
       "      <td>2.70</td>\n",
       "      <td>14.0</td>\n",
       "      <td>31.3</td>\n",
       "      <td>9</td>\n",
       "      <td>False</td>\n",
       "      <td>...</td>\n",
       "      <td>28098.0</td>\n",
       "      <td>6800.0</td>\n",
       "      <td>2.0</td>\n",
       "      <td>84.0</td>\n",
       "      <td>3.0</td>\n",
       "      <td>234.0</td>\n",
       "      <td>424.0</td>\n",
       "      <td>2015-07-24</td>\n",
       "      <td>2015-07-24 03:00:00</td>\n",
       "      <td>Санкт-Петербург</td>\n",
       "    </tr>\n",
       "    <tr>\n",
       "      <th>4</th>\n",
       "      <td>2</td>\n",
       "      <td>10000000</td>\n",
       "      <td>100</td>\n",
       "      <td>2018-06-19T00:00:00</td>\n",
       "      <td>2</td>\n",
       "      <td>3.03</td>\n",
       "      <td>14.0</td>\n",
       "      <td>32.0</td>\n",
       "      <td>13</td>\n",
       "      <td>False</td>\n",
       "      <td>...</td>\n",
       "      <td>31856.0</td>\n",
       "      <td>8098.0</td>\n",
       "      <td>2.0</td>\n",
       "      <td>112.0</td>\n",
       "      <td>1.0</td>\n",
       "      <td>48.0</td>\n",
       "      <td>121.0</td>\n",
       "      <td>2018-06-19</td>\n",
       "      <td>2018-06-19 03:00:00</td>\n",
       "      <td>Санкт-Петербург</td>\n",
       "    </tr>\n",
       "    <tr>\n",
       "      <th>...</th>\n",
       "      <td>...</td>\n",
       "      <td>...</td>\n",
       "      <td>...</td>\n",
       "      <td>...</td>\n",
       "      <td>...</td>\n",
       "      <td>...</td>\n",
       "      <td>...</td>\n",
       "      <td>...</td>\n",
       "      <td>...</td>\n",
       "      <td>...</td>\n",
       "      <td>...</td>\n",
       "      <td>...</td>\n",
       "      <td>...</td>\n",
       "      <td>...</td>\n",
       "      <td>...</td>\n",
       "      <td>...</td>\n",
       "      <td>...</td>\n",
       "      <td>...</td>\n",
       "      <td>...</td>\n",
       "      <td>...</td>\n",
       "      <td>...</td>\n",
       "    </tr>\n",
       "    <tr>\n",
       "      <th>23694</th>\n",
       "      <td>9</td>\n",
       "      <td>9700000</td>\n",
       "      <td>133</td>\n",
       "      <td>2017-03-21T00:00:00</td>\n",
       "      <td>3</td>\n",
       "      <td>3.70</td>\n",
       "      <td>5.0</td>\n",
       "      <td>73.3</td>\n",
       "      <td>3</td>\n",
       "      <td>False</td>\n",
       "      <td>...</td>\n",
       "      <td>24665.0</td>\n",
       "      <td>4232.0</td>\n",
       "      <td>1.0</td>\n",
       "      <td>796.0</td>\n",
       "      <td>3.0</td>\n",
       "      <td>381.0</td>\n",
       "      <td>95.0</td>\n",
       "      <td>2017-03-21</td>\n",
       "      <td>2017-03-21 03:00:00</td>\n",
       "      <td>Санкт-Петербург</td>\n",
       "    </tr>\n",
       "    <tr>\n",
       "      <th>23695</th>\n",
       "      <td>14</td>\n",
       "      <td>3100000</td>\n",
       "      <td>59</td>\n",
       "      <td>2018-01-15T00:00:00</td>\n",
       "      <td>3</td>\n",
       "      <td>2.50</td>\n",
       "      <td>5.0</td>\n",
       "      <td>38.0</td>\n",
       "      <td>4</td>\n",
       "      <td>False</td>\n",
       "      <td>...</td>\n",
       "      <td>False</td>\n",
       "      <td>False</td>\n",
       "      <td>False</td>\n",
       "      <td>False</td>\n",
       "      <td>False</td>\n",
       "      <td>False</td>\n",
       "      <td>45.0</td>\n",
       "      <td>2018-01-15</td>\n",
       "      <td>2018-01-15 03:00:00</td>\n",
       "      <td>Тосно</td>\n",
       "    </tr>\n",
       "    <tr>\n",
       "      <th>23696</th>\n",
       "      <td>18</td>\n",
       "      <td>2500000</td>\n",
       "      <td>56</td>\n",
       "      <td>2018-02-11T00:00:00</td>\n",
       "      <td>2</td>\n",
       "      <td>NaN</td>\n",
       "      <td>3.0</td>\n",
       "      <td>29.7</td>\n",
       "      <td>1</td>\n",
       "      <td>False</td>\n",
       "      <td>...</td>\n",
       "      <td>False</td>\n",
       "      <td>False</td>\n",
       "      <td>False</td>\n",
       "      <td>False</td>\n",
       "      <td>False</td>\n",
       "      <td>False</td>\n",
       "      <td>99.0</td>\n",
       "      <td>2018-02-11</td>\n",
       "      <td>2018-02-11 03:00:00</td>\n",
       "      <td>село Рождествено</td>\n",
       "    </tr>\n",
       "    <tr>\n",
       "      <th>23697</th>\n",
       "      <td>13</td>\n",
       "      <td>11475000</td>\n",
       "      <td>76</td>\n",
       "      <td>2017-03-28T00:00:00</td>\n",
       "      <td>2</td>\n",
       "      <td>3.00</td>\n",
       "      <td>17.0</td>\n",
       "      <td>31.3</td>\n",
       "      <td>12</td>\n",
       "      <td>False</td>\n",
       "      <td>...</td>\n",
       "      <td>39140.0</td>\n",
       "      <td>10364.0</td>\n",
       "      <td>2.0</td>\n",
       "      <td>173.0</td>\n",
       "      <td>3.0</td>\n",
       "      <td>196.0</td>\n",
       "      <td>602.0</td>\n",
       "      <td>2017-03-28</td>\n",
       "      <td>2017-03-28 03:00:00</td>\n",
       "      <td>Санкт-Петербург</td>\n",
       "    </tr>\n",
       "    <tr>\n",
       "      <th>23698</th>\n",
       "      <td>4</td>\n",
       "      <td>1350000</td>\n",
       "      <td>32</td>\n",
       "      <td>2017-07-21T00:00:00</td>\n",
       "      <td>1</td>\n",
       "      <td>2.50</td>\n",
       "      <td>5.0</td>\n",
       "      <td>12.3</td>\n",
       "      <td>1</td>\n",
       "      <td>False</td>\n",
       "      <td>...</td>\n",
       "      <td>False</td>\n",
       "      <td>False</td>\n",
       "      <td>False</td>\n",
       "      <td>False</td>\n",
       "      <td>False</td>\n",
       "      <td>False</td>\n",
       "      <td>127.0</td>\n",
       "      <td>2017-07-21</td>\n",
       "      <td>2017-07-21 03:00:00</td>\n",
       "      <td>поселок Новый Учхоз</td>\n",
       "    </tr>\n",
       "  </tbody>\n",
       "</table>\n",
       "<p>23699 rows × 25 columns</p>\n",
       "</div>"
      ],
      "text/plain": [
       "       total_images  last_price  total_area first_day_exposition  rooms  \\\n",
       "0                20    13000000         108  2019-03-07T00:00:00      3   \n",
       "1                 7     3350000          40  2018-12-04T00:00:00      1   \n",
       "2                10     5196000          56  2015-08-20T00:00:00      2   \n",
       "3                 0    64900000         159  2015-07-24T00:00:00      3   \n",
       "4                 2    10000000         100  2018-06-19T00:00:00      2   \n",
       "...             ...         ...         ...                  ...    ...   \n",
       "23694             9     9700000         133  2017-03-21T00:00:00      3   \n",
       "23695            14     3100000          59  2018-01-15T00:00:00      3   \n",
       "23696            18     2500000          56  2018-02-11T00:00:00      2   \n",
       "23697            13    11475000          76  2017-03-28T00:00:00      2   \n",
       "23698             4     1350000          32  2017-07-21T00:00:00      1   \n",
       "\n",
       "       ceiling_height  floors_total  living_area  floor  is_apartment  ...  \\\n",
       "0                2.70          16.0         51.0      8         False  ...   \n",
       "1                2.63          11.0         18.6      1         False  ...   \n",
       "2                2.70           5.0         34.3      4         False  ...   \n",
       "3                2.70          14.0         31.3      9         False  ...   \n",
       "4                3.03          14.0         32.0     13         False  ...   \n",
       "...               ...           ...          ...    ...           ...  ...   \n",
       "23694            3.70           5.0         73.3      3         False  ...   \n",
       "23695            2.50           5.0         38.0      4         False  ...   \n",
       "23696             NaN           3.0         29.7      1         False  ...   \n",
       "23697            3.00          17.0         31.3     12         False  ...   \n",
       "23698            2.50           5.0         12.3      1         False  ...   \n",
       "\n",
       "       airports_nearest  cityCenters_nearest  parks_around3000 parks_nearest  \\\n",
       "0               18863.0              16028.0               1.0         482.0   \n",
       "1               12817.0              18603.0               0.0         False   \n",
       "2               21741.0              13933.0               1.0          90.0   \n",
       "3               28098.0               6800.0               2.0          84.0   \n",
       "4               31856.0               8098.0               2.0         112.0   \n",
       "...                 ...                  ...               ...           ...   \n",
       "23694           24665.0               4232.0               1.0         796.0   \n",
       "23695             False                False             False         False   \n",
       "23696             False                False             False         False   \n",
       "23697           39140.0              10364.0               2.0         173.0   \n",
       "23698             False                False             False         False   \n",
       "\n",
       "      ponds_around3000 ponds_nearest days_exposition  date_time  \\\n",
       "0                  2.0         755.0            95.0 2019-03-07   \n",
       "1                  0.0         False            81.0 2018-12-04   \n",
       "2                  2.0         574.0           558.0 2015-08-20   \n",
       "3                  3.0         234.0           424.0 2015-07-24   \n",
       "4                  1.0          48.0           121.0 2018-06-19   \n",
       "...                ...           ...             ...        ...   \n",
       "23694              3.0         381.0            95.0 2017-03-21   \n",
       "23695            False         False            45.0 2018-01-15   \n",
       "23696            False         False            99.0 2018-02-11   \n",
       "23697              3.0         196.0           602.0 2017-03-28   \n",
       "23698            False         False           127.0 2017-07-21   \n",
       "\n",
       "               local_time             location  \n",
       "0     2019-03-07 03:00:00      Санкт-Петербург  \n",
       "1     2018-12-04 03:00:00       посёлок Шушары  \n",
       "2     2015-08-20 03:00:00      Санкт-Петербург  \n",
       "3     2015-07-24 03:00:00      Санкт-Петербург  \n",
       "4     2018-06-19 03:00:00      Санкт-Петербург  \n",
       "...                   ...                  ...  \n",
       "23694 2017-03-21 03:00:00      Санкт-Петербург  \n",
       "23695 2018-01-15 03:00:00                Тосно  \n",
       "23696 2018-02-11 03:00:00     село Рождествено  \n",
       "23697 2017-03-28 03:00:00      Санкт-Петербург  \n",
       "23698 2017-07-21 03:00:00  поселок Новый Учхоз  \n",
       "\n",
       "[23699 rows x 25 columns]"
      ]
     },
     "execution_count": 1032,
     "metadata": {},
     "output_type": "execute_result"
    }
   ],
   "source": [
    "data['location'] = data['locality_name']\n",
    "data"
   ]
  },
  {
   "cell_type": "markdown",
   "id": "426ce962",
   "metadata": {},
   "source": [
    "**From the above output we can see that this column requires a classification, since there are latent dublicates in the location names, e.g. _\"поселок Рябово\"_ и _\"поселок городского типа Рябово\"_, _\"поселок Тельмана\"_ и _\"посёлок Тельмана\"_.**\n",
    "\n",
    "**Let's create a function, which based on the data from the _'locality_name'_ column, will create a new _'location'_ column with the following names:**\n",
    "-  **'городской поселок Янино-1'** = 'городской поселок Янино-1', 'городской посёлок Янино-1';\n",
    "-  **'поселок городского типа Вырица'** =  'поселок городского типа Вырица', 'посёлок городского типа Вырица';\n",
    "-  **'поселок городского типа Токсово'** =  'поселок городского типа Токсово',  'посёлок городского типа Токсово';\n",
    "-  **'поселок Новый Свет'** =  'поселок Новый Свет',  'посёлок Новый Свет';\n",
    "- **'поселок Сапёрный'** =  'посёлок Сапёрный',  'посёлок Сапёрное';\n",
    "- **'поселок Сумино'** =  'поселок Сумино',  'посёлок Сумино';\n",
    "- **'поселок Усть-Луга'** =  'поселок Усть-Луга',  'посёлок Усть-Луга'\n",
    "- **\"поселок Рябово\"** =  _\"поселок Рябово\"_ и _\"поселок городского типа Рябово\"_"
   ]
  },
  {
   "cell_type": "code",
   "execution_count": 1033,
   "id": "099fcc27",
   "metadata": {},
   "outputs": [],
   "source": [
    "# создадим функцию location_class()\n",
    "\n",
    "def location_class(location):\n",
    "    \n",
    "    if 'Янино' in location:\n",
    "        return 'городской поселок Янино-1'\n",
    "    elif 'Вырица' in location:\n",
    "        return 'поселок городского типа Вырица'\n",
    "    elif 'Токсово' in location:\n",
    "        return 'поселок городского типа Токсово'\n",
    "    elif 'Новый Свет' in location:\n",
    "        return 'поселок Новый Свет'\n",
    "    elif 'Сапёрн' in location:\n",
    "        return 'поселок Сапёрный'\n",
    "    elif 'Рябово' in location:\n",
    "        return 'поселок Рябово'\n",
    "    elif 'Сумино' in location:\n",
    "        return 'поселок Сумино'\n",
    "    elif 'Усть-Луга' in location:\n",
    "        return 'поселок Усть-Луга'\n",
    "    return(location)"
   ]
  },
  {
   "cell_type": "code",
   "execution_count": 1034,
   "id": "e8a2bc4b",
   "metadata": {},
   "outputs": [
    {
     "data": {
      "text/html": [
       "<div>\n",
       "<style scoped>\n",
       "    .dataframe tbody tr th:only-of-type {\n",
       "        vertical-align: middle;\n",
       "    }\n",
       "\n",
       "    .dataframe tbody tr th {\n",
       "        vertical-align: top;\n",
       "    }\n",
       "\n",
       "    .dataframe thead th {\n",
       "        text-align: right;\n",
       "    }\n",
       "</style>\n",
       "<table border=\"1\" class=\"dataframe\">\n",
       "  <thead>\n",
       "    <tr style=\"text-align: right;\">\n",
       "      <th></th>\n",
       "      <th>total_images</th>\n",
       "      <th>last_price</th>\n",
       "      <th>total_area</th>\n",
       "      <th>first_day_exposition</th>\n",
       "      <th>rooms</th>\n",
       "      <th>ceiling_height</th>\n",
       "      <th>floors_total</th>\n",
       "      <th>living_area</th>\n",
       "      <th>floor</th>\n",
       "      <th>is_apartment</th>\n",
       "      <th>...</th>\n",
       "      <th>airports_nearest</th>\n",
       "      <th>cityCenters_nearest</th>\n",
       "      <th>parks_around3000</th>\n",
       "      <th>parks_nearest</th>\n",
       "      <th>ponds_around3000</th>\n",
       "      <th>ponds_nearest</th>\n",
       "      <th>days_exposition</th>\n",
       "      <th>date_time</th>\n",
       "      <th>local_time</th>\n",
       "      <th>location</th>\n",
       "    </tr>\n",
       "  </thead>\n",
       "  <tbody>\n",
       "    <tr>\n",
       "      <th>0</th>\n",
       "      <td>20</td>\n",
       "      <td>13000000</td>\n",
       "      <td>108</td>\n",
       "      <td>2019-03-07T00:00:00</td>\n",
       "      <td>3</td>\n",
       "      <td>2.70</td>\n",
       "      <td>16.0</td>\n",
       "      <td>51.0</td>\n",
       "      <td>8</td>\n",
       "      <td>False</td>\n",
       "      <td>...</td>\n",
       "      <td>18863.0</td>\n",
       "      <td>16028.0</td>\n",
       "      <td>1.0</td>\n",
       "      <td>482.0</td>\n",
       "      <td>2.0</td>\n",
       "      <td>755.0</td>\n",
       "      <td>95.0</td>\n",
       "      <td>2019-03-07</td>\n",
       "      <td>2019-03-07 03:00:00</td>\n",
       "      <td>Санкт-Петербург</td>\n",
       "    </tr>\n",
       "    <tr>\n",
       "      <th>1</th>\n",
       "      <td>7</td>\n",
       "      <td>3350000</td>\n",
       "      <td>40</td>\n",
       "      <td>2018-12-04T00:00:00</td>\n",
       "      <td>1</td>\n",
       "      <td>2.63</td>\n",
       "      <td>11.0</td>\n",
       "      <td>18.6</td>\n",
       "      <td>1</td>\n",
       "      <td>False</td>\n",
       "      <td>...</td>\n",
       "      <td>12817.0</td>\n",
       "      <td>18603.0</td>\n",
       "      <td>0.0</td>\n",
       "      <td>False</td>\n",
       "      <td>0.0</td>\n",
       "      <td>False</td>\n",
       "      <td>81.0</td>\n",
       "      <td>2018-12-04</td>\n",
       "      <td>2018-12-04 03:00:00</td>\n",
       "      <td>посёлок Шушары</td>\n",
       "    </tr>\n",
       "    <tr>\n",
       "      <th>2</th>\n",
       "      <td>10</td>\n",
       "      <td>5196000</td>\n",
       "      <td>56</td>\n",
       "      <td>2015-08-20T00:00:00</td>\n",
       "      <td>2</td>\n",
       "      <td>2.70</td>\n",
       "      <td>5.0</td>\n",
       "      <td>34.3</td>\n",
       "      <td>4</td>\n",
       "      <td>False</td>\n",
       "      <td>...</td>\n",
       "      <td>21741.0</td>\n",
       "      <td>13933.0</td>\n",
       "      <td>1.0</td>\n",
       "      <td>90.0</td>\n",
       "      <td>2.0</td>\n",
       "      <td>574.0</td>\n",
       "      <td>558.0</td>\n",
       "      <td>2015-08-20</td>\n",
       "      <td>2015-08-20 03:00:00</td>\n",
       "      <td>Санкт-Петербург</td>\n",
       "    </tr>\n",
       "    <tr>\n",
       "      <th>3</th>\n",
       "      <td>0</td>\n",
       "      <td>64900000</td>\n",
       "      <td>159</td>\n",
       "      <td>2015-07-24T00:00:00</td>\n",
       "      <td>3</td>\n",
       "      <td>2.70</td>\n",
       "      <td>14.0</td>\n",
       "      <td>31.3</td>\n",
       "      <td>9</td>\n",
       "      <td>False</td>\n",
       "      <td>...</td>\n",
       "      <td>28098.0</td>\n",
       "      <td>6800.0</td>\n",
       "      <td>2.0</td>\n",
       "      <td>84.0</td>\n",
       "      <td>3.0</td>\n",
       "      <td>234.0</td>\n",
       "      <td>424.0</td>\n",
       "      <td>2015-07-24</td>\n",
       "      <td>2015-07-24 03:00:00</td>\n",
       "      <td>Санкт-Петербург</td>\n",
       "    </tr>\n",
       "    <tr>\n",
       "      <th>4</th>\n",
       "      <td>2</td>\n",
       "      <td>10000000</td>\n",
       "      <td>100</td>\n",
       "      <td>2018-06-19T00:00:00</td>\n",
       "      <td>2</td>\n",
       "      <td>3.03</td>\n",
       "      <td>14.0</td>\n",
       "      <td>32.0</td>\n",
       "      <td>13</td>\n",
       "      <td>False</td>\n",
       "      <td>...</td>\n",
       "      <td>31856.0</td>\n",
       "      <td>8098.0</td>\n",
       "      <td>2.0</td>\n",
       "      <td>112.0</td>\n",
       "      <td>1.0</td>\n",
       "      <td>48.0</td>\n",
       "      <td>121.0</td>\n",
       "      <td>2018-06-19</td>\n",
       "      <td>2018-06-19 03:00:00</td>\n",
       "      <td>Санкт-Петербург</td>\n",
       "    </tr>\n",
       "    <tr>\n",
       "      <th>...</th>\n",
       "      <td>...</td>\n",
       "      <td>...</td>\n",
       "      <td>...</td>\n",
       "      <td>...</td>\n",
       "      <td>...</td>\n",
       "      <td>...</td>\n",
       "      <td>...</td>\n",
       "      <td>...</td>\n",
       "      <td>...</td>\n",
       "      <td>...</td>\n",
       "      <td>...</td>\n",
       "      <td>...</td>\n",
       "      <td>...</td>\n",
       "      <td>...</td>\n",
       "      <td>...</td>\n",
       "      <td>...</td>\n",
       "      <td>...</td>\n",
       "      <td>...</td>\n",
       "      <td>...</td>\n",
       "      <td>...</td>\n",
       "      <td>...</td>\n",
       "    </tr>\n",
       "    <tr>\n",
       "      <th>23694</th>\n",
       "      <td>9</td>\n",
       "      <td>9700000</td>\n",
       "      <td>133</td>\n",
       "      <td>2017-03-21T00:00:00</td>\n",
       "      <td>3</td>\n",
       "      <td>3.70</td>\n",
       "      <td>5.0</td>\n",
       "      <td>73.3</td>\n",
       "      <td>3</td>\n",
       "      <td>False</td>\n",
       "      <td>...</td>\n",
       "      <td>24665.0</td>\n",
       "      <td>4232.0</td>\n",
       "      <td>1.0</td>\n",
       "      <td>796.0</td>\n",
       "      <td>3.0</td>\n",
       "      <td>381.0</td>\n",
       "      <td>95.0</td>\n",
       "      <td>2017-03-21</td>\n",
       "      <td>2017-03-21 03:00:00</td>\n",
       "      <td>Санкт-Петербург</td>\n",
       "    </tr>\n",
       "    <tr>\n",
       "      <th>23695</th>\n",
       "      <td>14</td>\n",
       "      <td>3100000</td>\n",
       "      <td>59</td>\n",
       "      <td>2018-01-15T00:00:00</td>\n",
       "      <td>3</td>\n",
       "      <td>2.50</td>\n",
       "      <td>5.0</td>\n",
       "      <td>38.0</td>\n",
       "      <td>4</td>\n",
       "      <td>False</td>\n",
       "      <td>...</td>\n",
       "      <td>False</td>\n",
       "      <td>False</td>\n",
       "      <td>False</td>\n",
       "      <td>False</td>\n",
       "      <td>False</td>\n",
       "      <td>False</td>\n",
       "      <td>45.0</td>\n",
       "      <td>2018-01-15</td>\n",
       "      <td>2018-01-15 03:00:00</td>\n",
       "      <td>Тосно</td>\n",
       "    </tr>\n",
       "    <tr>\n",
       "      <th>23696</th>\n",
       "      <td>18</td>\n",
       "      <td>2500000</td>\n",
       "      <td>56</td>\n",
       "      <td>2018-02-11T00:00:00</td>\n",
       "      <td>2</td>\n",
       "      <td>NaN</td>\n",
       "      <td>3.0</td>\n",
       "      <td>29.7</td>\n",
       "      <td>1</td>\n",
       "      <td>False</td>\n",
       "      <td>...</td>\n",
       "      <td>False</td>\n",
       "      <td>False</td>\n",
       "      <td>False</td>\n",
       "      <td>False</td>\n",
       "      <td>False</td>\n",
       "      <td>False</td>\n",
       "      <td>99.0</td>\n",
       "      <td>2018-02-11</td>\n",
       "      <td>2018-02-11 03:00:00</td>\n",
       "      <td>село Рождествено</td>\n",
       "    </tr>\n",
       "    <tr>\n",
       "      <th>23697</th>\n",
       "      <td>13</td>\n",
       "      <td>11475000</td>\n",
       "      <td>76</td>\n",
       "      <td>2017-03-28T00:00:00</td>\n",
       "      <td>2</td>\n",
       "      <td>3.00</td>\n",
       "      <td>17.0</td>\n",
       "      <td>31.3</td>\n",
       "      <td>12</td>\n",
       "      <td>False</td>\n",
       "      <td>...</td>\n",
       "      <td>39140.0</td>\n",
       "      <td>10364.0</td>\n",
       "      <td>2.0</td>\n",
       "      <td>173.0</td>\n",
       "      <td>3.0</td>\n",
       "      <td>196.0</td>\n",
       "      <td>602.0</td>\n",
       "      <td>2017-03-28</td>\n",
       "      <td>2017-03-28 03:00:00</td>\n",
       "      <td>Санкт-Петербург</td>\n",
       "    </tr>\n",
       "    <tr>\n",
       "      <th>23698</th>\n",
       "      <td>4</td>\n",
       "      <td>1350000</td>\n",
       "      <td>32</td>\n",
       "      <td>2017-07-21T00:00:00</td>\n",
       "      <td>1</td>\n",
       "      <td>2.50</td>\n",
       "      <td>5.0</td>\n",
       "      <td>12.3</td>\n",
       "      <td>1</td>\n",
       "      <td>False</td>\n",
       "      <td>...</td>\n",
       "      <td>False</td>\n",
       "      <td>False</td>\n",
       "      <td>False</td>\n",
       "      <td>False</td>\n",
       "      <td>False</td>\n",
       "      <td>False</td>\n",
       "      <td>127.0</td>\n",
       "      <td>2017-07-21</td>\n",
       "      <td>2017-07-21 03:00:00</td>\n",
       "      <td>поселок Новый Учхоз</td>\n",
       "    </tr>\n",
       "  </tbody>\n",
       "</table>\n",
       "<p>23699 rows × 25 columns</p>\n",
       "</div>"
      ],
      "text/plain": [
       "       total_images  last_price  total_area first_day_exposition  rooms  \\\n",
       "0                20    13000000         108  2019-03-07T00:00:00      3   \n",
       "1                 7     3350000          40  2018-12-04T00:00:00      1   \n",
       "2                10     5196000          56  2015-08-20T00:00:00      2   \n",
       "3                 0    64900000         159  2015-07-24T00:00:00      3   \n",
       "4                 2    10000000         100  2018-06-19T00:00:00      2   \n",
       "...             ...         ...         ...                  ...    ...   \n",
       "23694             9     9700000         133  2017-03-21T00:00:00      3   \n",
       "23695            14     3100000          59  2018-01-15T00:00:00      3   \n",
       "23696            18     2500000          56  2018-02-11T00:00:00      2   \n",
       "23697            13    11475000          76  2017-03-28T00:00:00      2   \n",
       "23698             4     1350000          32  2017-07-21T00:00:00      1   \n",
       "\n",
       "       ceiling_height  floors_total  living_area  floor  is_apartment  ...  \\\n",
       "0                2.70          16.0         51.0      8         False  ...   \n",
       "1                2.63          11.0         18.6      1         False  ...   \n",
       "2                2.70           5.0         34.3      4         False  ...   \n",
       "3                2.70          14.0         31.3      9         False  ...   \n",
       "4                3.03          14.0         32.0     13         False  ...   \n",
       "...               ...           ...          ...    ...           ...  ...   \n",
       "23694            3.70           5.0         73.3      3         False  ...   \n",
       "23695            2.50           5.0         38.0      4         False  ...   \n",
       "23696             NaN           3.0         29.7      1         False  ...   \n",
       "23697            3.00          17.0         31.3     12         False  ...   \n",
       "23698            2.50           5.0         12.3      1         False  ...   \n",
       "\n",
       "       airports_nearest  cityCenters_nearest  parks_around3000 parks_nearest  \\\n",
       "0               18863.0              16028.0               1.0         482.0   \n",
       "1               12817.0              18603.0               0.0         False   \n",
       "2               21741.0              13933.0               1.0          90.0   \n",
       "3               28098.0               6800.0               2.0          84.0   \n",
       "4               31856.0               8098.0               2.0         112.0   \n",
       "...                 ...                  ...               ...           ...   \n",
       "23694           24665.0               4232.0               1.0         796.0   \n",
       "23695             False                False             False         False   \n",
       "23696             False                False             False         False   \n",
       "23697           39140.0              10364.0               2.0         173.0   \n",
       "23698             False                False             False         False   \n",
       "\n",
       "      ponds_around3000 ponds_nearest days_exposition  date_time  \\\n",
       "0                  2.0         755.0            95.0 2019-03-07   \n",
       "1                  0.0         False            81.0 2018-12-04   \n",
       "2                  2.0         574.0           558.0 2015-08-20   \n",
       "3                  3.0         234.0           424.0 2015-07-24   \n",
       "4                  1.0          48.0           121.0 2018-06-19   \n",
       "...                ...           ...             ...        ...   \n",
       "23694              3.0         381.0            95.0 2017-03-21   \n",
       "23695            False         False            45.0 2018-01-15   \n",
       "23696            False         False            99.0 2018-02-11   \n",
       "23697              3.0         196.0           602.0 2017-03-28   \n",
       "23698            False         False           127.0 2017-07-21   \n",
       "\n",
       "               local_time             location  \n",
       "0     2019-03-07 03:00:00      Санкт-Петербург  \n",
       "1     2018-12-04 03:00:00       посёлок Шушары  \n",
       "2     2015-08-20 03:00:00      Санкт-Петербург  \n",
       "3     2015-07-24 03:00:00      Санкт-Петербург  \n",
       "4     2018-06-19 03:00:00      Санкт-Петербург  \n",
       "...                   ...                  ...  \n",
       "23694 2017-03-21 03:00:00      Санкт-Петербург  \n",
       "23695 2018-01-15 03:00:00                Тосно  \n",
       "23696 2018-02-11 03:00:00     село Рождествено  \n",
       "23697 2017-03-28 03:00:00      Санкт-Петербург  \n",
       "23698 2017-07-21 03:00:00  поселок Новый Учхоз  \n",
       "\n",
       "[23699 rows x 25 columns]"
      ]
     },
     "execution_count": 1034,
     "metadata": {},
     "output_type": "execute_result"
    }
   ],
   "source": [
    "# using the method apply() to create a new column 'location' with a classified location names\n",
    "data['location'] = data['location'].apply(location_class)\n",
    "data"
   ]
  },
  {
   "cell_type": "markdown",
   "id": "51560010",
   "metadata": {},
   "source": [
    "Let's check uniqueness in the new column _'location'_ in the DataFrame."
   ]
  },
  {
   "cell_type": "code",
   "execution_count": 1035,
   "id": "e80cf70b",
   "metadata": {
    "scrolled": false
   },
   "outputs": [
    {
     "data": {
      "text/plain": [
       "array(['Санкт-Петербург', 'посёлок Шушары', 'городской поселок Янино-1',\n",
       "       'посёлок Парголово', 'посёлок Мурино', 'Ломоносов', 'Сертолово',\n",
       "       'Петергоф', 'Пушкин', 'деревня Кудрово', 'Коммунар', 'Колпино',\n",
       "       'поселок городского типа Красный Бор', 'Гатчина', 'поселок Мурино',\n",
       "       'деревня Фёдоровское', 'Выборг', 'Кронштадт', 'Кировск',\n",
       "       'деревня Новое Девяткино', 'посёлок Металлострой',\n",
       "       'посёлок городского типа Лебяжье',\n",
       "       'посёлок городского типа Сиверский', 'поселок Молодцово',\n",
       "       'поселок городского типа Кузьмоловский',\n",
       "       'садовое товарищество Новая Ропша', 'Павловск',\n",
       "       'деревня Пикколово', 'Всеволожск', 'Волхов', 'Кингисепп',\n",
       "       'Приозерск', 'Сестрорецк', 'деревня Куттузи', 'посёлок Аннино',\n",
       "       'поселок городского типа Ефимовский', 'посёлок Плодовое',\n",
       "       'деревня Заклинье', 'поселок Торковичи', 'поселок Первомайское',\n",
       "       'Красное Село', 'посёлок Понтонный', 'Сясьстрой', 'деревня Старая',\n",
       "       'деревня Лесколово', 'поселок Новый Свет', 'Сланцы',\n",
       "       'село Путилово', 'Ивангород', 'Мурино', 'Шлиссельбург',\n",
       "       'Никольское', 'Зеленогорск', 'Сосновый Бор', 'деревня Оржицы',\n",
       "       'деревня Кальтино', 'Кудрово', 'поселок Романовка',\n",
       "       'посёлок Бугры', 'поселок Бугры', 'поселок городского типа Рощино',\n",
       "       'Кириши', 'Луга', 'Волосово', 'Отрадное', 'село Павлово',\n",
       "       'поселок Оредеж', 'село Копорье',\n",
       "       'посёлок городского типа Красный Бор', 'посёлок Молодёжное',\n",
       "       'Тихвин', 'посёлок Победа', 'деревня Нурма',\n",
       "       'поселок городского типа Синявино', 'Тосно',\n",
       "       'посёлок городского типа Кузьмоловский', 'посёлок Стрельна',\n",
       "       'Бокситогорск', 'посёлок Александровская', 'деревня Лопухинка',\n",
       "       'Пикалёво', 'поселок Терволово',\n",
       "       'поселок городского типа Советский', 'Подпорожье',\n",
       "       'посёлок Петровское', 'поселок городского типа Токсово',\n",
       "       'поселок Сельцо', 'поселок городского типа Вырица',\n",
       "       'деревня Кипень', 'деревня Келози', 'деревня Вартемяги',\n",
       "       'посёлок Тельмана', 'поселок Севастьяново',\n",
       "       'городской поселок Большая Ижора', 'nan',\n",
       "       'городской посёлок Павлово', 'деревня Агалатово',\n",
       "       'посёлок Новогорелово', 'городской посёлок Лесогорский',\n",
       "       'деревня Лаголово', 'поселок Цвелодубово',\n",
       "       'поселок городского типа Рахья', 'деревня Белогорка',\n",
       "       'поселок Заводской', 'городской посёлок Новоселье',\n",
       "       'деревня Большие Колпаны', 'деревня Горбунки', 'деревня Батово',\n",
       "       'деревня Заневка', 'деревня Иссад', 'Приморск',\n",
       "       'городской посёлок Фёдоровское', 'деревня Мистолово',\n",
       "       'Новая Ладога', 'поселок Зимитицы', 'поселок Барышево',\n",
       "       'деревня Разметелево', 'поселок городского типа имени Свердлова',\n",
       "       'деревня Пеники', 'поселок Рябово', 'деревня Пудомяги',\n",
       "       'поселок станции Корнево', 'деревня Низино', 'деревня Бегуницы',\n",
       "       'посёлок Поляны', 'городской посёлок Мга', 'поселок Елизаветино',\n",
       "       'посёлок городского типа Кузнечное', 'деревня Колтуши',\n",
       "       'поселок Запорожское', 'посёлок городского типа Рощино',\n",
       "       'деревня Гостилицы', 'деревня Малое Карлино',\n",
       "       'посёлок Мичуринское', 'посёлок городского типа имени Морозова',\n",
       "       'посёлок Песочный', 'посёлок Сосново', 'деревня Аро',\n",
       "       'поселок Ильичёво', 'посёлок городского типа Тайцы',\n",
       "       'деревня Малое Верево', 'деревня Извара', 'поселок станции Вещево',\n",
       "       'село Паша', 'деревня Калитино',\n",
       "       'посёлок городского типа Ульяновка', 'деревня Чудской Бор',\n",
       "       'поселок городского типа Дубровка', 'деревня Мины',\n",
       "       'поселок Войсковицы', 'посёлок городского типа имени Свердлова',\n",
       "       'деревня Коркино', 'посёлок Ропша',\n",
       "       'поселок городского типа Приладожский', 'посёлок Щеглово',\n",
       "       'посёлок Гаврилово', 'Лодейное Поле', 'деревня Рабитицы',\n",
       "       'поселок городского типа Никольский', 'деревня Кузьмолово',\n",
       "       'деревня Малые Колпаны', 'поселок Тельмана',\n",
       "       'посёлок Петро-Славянка', 'городской посёлок Назия',\n",
       "       'посёлок Репино', 'посёлок Ильичёво', 'поселок Углово',\n",
       "       'поселок Старая Малукса', 'садовое товарищество Рахья',\n",
       "       'поселок Аннино', 'поселок Победа', 'деревня Меньково',\n",
       "       'деревня Старые Бегуницы', 'поселок Сапёрный', 'поселок Семрино',\n",
       "       'поселок Гаврилово', 'поселок Глажево', 'поселок Кобринское',\n",
       "       'деревня Гарболово', 'деревня Юкки',\n",
       "       'поселок станции Приветнинское', 'деревня Мануйлово',\n",
       "       'деревня Пчева', 'поселок Поляны', 'поселок Цвылёво',\n",
       "       'поселок Мельниково', 'посёлок Пудость', 'поселок Усть-Луга',\n",
       "       'Светогорск', 'Любань', 'поселок Селезнёво', 'Каменногорск',\n",
       "       'деревня Кривко', 'поселок Глебычево', 'деревня Парицы',\n",
       "       'поселок Жилпосёлок', 'посёлок городского типа Мга',\n",
       "       'посёлок Войскорово', 'село Никольское', 'посёлок Терволово',\n",
       "       'поселок Стеклянный', 'посёлок городского типа Важины',\n",
       "       'посёлок Мыза-Ивановка', 'село Русско-Высоцкое',\n",
       "       'поселок городского типа Лебяжье',\n",
       "       'поселок городского типа Форносово', 'село Старая Ладога',\n",
       "       'поселок Житково', 'городской посёлок Виллози', 'деревня Лампово',\n",
       "       'деревня Шпаньково', 'деревня Лаврики', 'поселок Сумино',\n",
       "       'посёлок Возрождение', 'деревня Старосиверская',\n",
       "       'посёлок Кикерино', 'поселок Возрождение',\n",
       "       'деревня Старое Хинколово', 'посёлок Пригородный',\n",
       "       'посёлок Торфяное', 'городской посёлок Будогощь',\n",
       "       'поселок Суходолье', 'поселок Красная Долина', 'деревня Хапо-Ое',\n",
       "       'поселок городского типа Дружная Горка', 'поселок Лисий Нос',\n",
       "       'деревня Яльгелево', 'посёлок Стеклянный', 'село Рождествено',\n",
       "       'деревня Старополье', 'посёлок Левашово', 'деревня Сяськелево',\n",
       "       'деревня Камышовка',\n",
       "       'садоводческое некоммерческое товарищество Лесная Поляна',\n",
       "       'деревня Хязельки', 'поселок Жилгородок',\n",
       "       'посёлок городского типа Павлово', 'деревня Ялгино',\n",
       "       'поселок Новый Учхоз', 'городской посёлок Рощино',\n",
       "       'поселок Гончарово', 'поселок Почап',\n",
       "       'посёлок Платформа 69-й километр', 'поселок Каложицы',\n",
       "       'деревня Фалилеево', 'деревня Пельгора',\n",
       "       'поселок городского типа Лесогорский', 'деревня Торошковичи',\n",
       "       'посёлок Белоостров', 'посёлок Алексеевка', 'поселок Серебрянский',\n",
       "       'поселок Лукаши', 'поселок Петровское', 'деревня Щеглово',\n",
       "       'поселок Мичуринское', 'деревня Тарасово', 'поселок Кингисеппский',\n",
       "       'посёлок при железнодорожной станции Вещево', 'поселок Ушаки',\n",
       "       'деревня Котлы', 'деревня Сижно', 'деревня Торосово',\n",
       "       'посёлок Форт Красная Горка', 'деревня Новолисино',\n",
       "       'посёлок станции Громово', 'деревня Глинка', 'посёлок Мельниково',\n",
       "       'поселок городского типа Назия', 'деревня Старая Пустошь',\n",
       "       'поселок Коммунары', 'поселок Починок',\n",
       "       'посёлок городского типа Вознесенье', 'деревня Разбегаево',\n",
       "       'поселок Гладкое',\n",
       "       'посёлок при железнодорожной станции Приветнинское',\n",
       "       'поселок Тёсово-4', 'посёлок Жилгородок', 'деревня Бор',\n",
       "       'посёлок Коробицыно', 'деревня Большая Вруда', 'деревня Курковицы',\n",
       "       'посёлок Лисий Нос', 'городской посёлок Советский',\n",
       "       'посёлок Кобралово', 'деревня Суоранда', 'поселок Кобралово',\n",
       "       'поселок городского типа Кондратьево',\n",
       "       'коттеджный поселок Счастье', 'поселок Любань', 'деревня Реброво',\n",
       "       'деревня Зимитицы', 'деревня Тойворово', 'поселок Семиозерье',\n",
       "       'поселок Лесное', 'поселок Совхозный', 'посёлок Ленинское',\n",
       "       'посёлок Суйда', 'посёлок городского типа Форносово',\n",
       "       'деревня Нижние Осельки', 'посёлок станции Свирь',\n",
       "       'поселок Перово', 'Высоцк', 'поселок Гарболово', 'село Шум',\n",
       "       'поселок Котельский', 'поселок станции Лужайка',\n",
       "       'деревня Большая Пустомержа', 'поселок Красносельское',\n",
       "       'деревня Вахнова Кара', 'деревня Пижма',\n",
       "       'коттеджный поселок Кивеннапа Север', 'поселок Коробицыно',\n",
       "       'поселок Ромашки', 'посёлок Перово', 'деревня Каськово',\n",
       "       'деревня Куровицы', 'посёлок Плоское',\n",
       "       'поселок городского типа Большая Ижора', 'поселок Кирпичное',\n",
       "       'деревня Ям-Тесово', 'деревня Раздолье', 'деревня Терпилицы',\n",
       "       'посёлок Шугозеро', 'деревня Ваганово', 'поселок Пушное',\n",
       "       'садовое товарищество Садко', 'посёлок Усть-Ижора',\n",
       "       'деревня Выскатка', 'городской посёлок Свирьстрой',\n",
       "       'поселок Громово', 'деревня Кисельня', 'посёлок Старая Малукса',\n",
       "       'деревня Трубников Бор', 'поселок Калитино',\n",
       "       'посёлок Высокоключевой', 'садовое товарищество Приладожский',\n",
       "       'посёлок Пансионат Зелёный Бор', 'деревня Ненимяки',\n",
       "       'поселок Пансионат Зелёный Бор', 'деревня Снегирёвка',\n",
       "       'деревня Рапполово', 'деревня Пустынка', 'поселок Рабитицы',\n",
       "       'деревня Большой Сабск', 'деревня Русско', 'деревня Лупполово',\n",
       "       'деревня Большое Рейзино', 'деревня Малая Романовка',\n",
       "       'поселок Дружноселье', 'поселок Пчевжа', 'поселок Володарское',\n",
       "       'деревня Нижняя', 'коттеджный посёлок Лесное', 'деревня Тихковицы',\n",
       "       'деревня Борисова Грива', 'посёлок Дзержинского'], dtype=object)"
      ]
     },
     "execution_count": 1035,
     "metadata": {},
     "output_type": "execute_result"
    }
   ],
   "source": [
    "data['location'].unique()"
   ]
  },
  {
   "cell_type": "code",
   "execution_count": 1036,
   "id": "ca3e25cb",
   "metadata": {},
   "outputs": [
    {
     "data": {
      "text/plain": [
       "array(['Санкт-Петербург', 'посёлок Шушары', 'городской поселок Янино-1',\n",
       "       'посёлок Парголово', 'посёлок Мурино', 'Ломоносов', 'Сертолово',\n",
       "       'Петергоф', 'Пушкин', 'деревня Кудрово', 'Коммунар', 'Колпино',\n",
       "       'поселок городского типа Красный Бор', 'Гатчина', 'поселок Мурино',\n",
       "       'деревня Фёдоровское', 'Выборг', 'Кронштадт', 'Кировск',\n",
       "       'деревня Новое Девяткино', 'посёлок Металлострой',\n",
       "       'посёлок городского типа Лебяжье',\n",
       "       'посёлок городского типа Сиверский', 'поселок Молодцово',\n",
       "       'поселок городского типа Кузьмоловский',\n",
       "       'садовое товарищество Новая Ропша', 'Павловск',\n",
       "       'деревня Пикколово', 'Всеволожск', 'Волхов', 'Кингисепп',\n",
       "       'Приозерск', 'Сестрорецк', 'деревня Куттузи', 'посёлок Аннино',\n",
       "       'поселок городского типа Ефимовский', 'посёлок Плодовое',\n",
       "       'деревня Заклинье', 'поселок Торковичи', 'поселок Первомайское',\n",
       "       'Красное Село', 'посёлок Понтонный', 'Сясьстрой', 'деревня Старая',\n",
       "       'деревня Лесколово', 'поселок Новый Свет', 'Сланцы',\n",
       "       'село Путилово', 'Ивангород', 'Мурино', 'Шлиссельбург',\n",
       "       'Никольское', 'Зеленогорск', 'Сосновый Бор', 'деревня Оржицы',\n",
       "       'деревня Кальтино', 'Кудрово', 'поселок Романовка',\n",
       "       'посёлок Бугры', 'поселок Бугры', 'поселок городского типа Рощино',\n",
       "       'Кириши', 'Луга', 'Волосово', 'Отрадное', 'село Павлово',\n",
       "       'поселок Оредеж', 'село Копорье',\n",
       "       'посёлок городского типа Красный Бор', 'посёлок Молодёжное',\n",
       "       'Тихвин', 'посёлок Победа', 'деревня Нурма',\n",
       "       'поселок городского типа Синявино', 'Тосно',\n",
       "       'посёлок городского типа Кузьмоловский', 'посёлок Стрельна',\n",
       "       'Бокситогорск', 'посёлок Александровская', 'деревня Лопухинка',\n",
       "       'Пикалёво', 'поселок Терволово',\n",
       "       'поселок городского типа Советский', 'Подпорожье',\n",
       "       'посёлок Петровское', 'поселок городского типа Токсово',\n",
       "       'поселок Сельцо', 'поселок городского типа Вырица',\n",
       "       'деревня Кипень', 'деревня Келози', 'деревня Вартемяги',\n",
       "       'посёлок Тельмана', 'поселок Севастьяново',\n",
       "       'городской поселок Большая Ижора', 'nan',\n",
       "       'городской посёлок Павлово', 'деревня Агалатово',\n",
       "       'посёлок Новогорелово', 'городской посёлок Лесогорский',\n",
       "       'деревня Лаголово', 'поселок Цвелодубово',\n",
       "       'поселок городского типа Рахья', 'деревня Белогорка',\n",
       "       'поселок Заводской', 'городской посёлок Новоселье',\n",
       "       'деревня Большие Колпаны', 'деревня Горбунки', 'деревня Батово',\n",
       "       'деревня Заневка', 'деревня Иссад', 'Приморск',\n",
       "       'городской посёлок Фёдоровское', 'деревня Мистолово',\n",
       "       'Новая Ладога', 'поселок Зимитицы', 'поселок Барышево',\n",
       "       'деревня Разметелево', 'поселок городского типа имени Свердлова',\n",
       "       'деревня Пеники', 'поселок Рябово', 'деревня Пудомяги',\n",
       "       'поселок станции Корнево', 'деревня Низино', 'деревня Бегуницы',\n",
       "       'посёлок Поляны', 'городской посёлок Мга', 'поселок Елизаветино',\n",
       "       'посёлок городского типа Кузнечное', 'деревня Колтуши',\n",
       "       'поселок Запорожское', 'посёлок городского типа Рощино',\n",
       "       'деревня Гостилицы', 'деревня Малое Карлино',\n",
       "       'посёлок Мичуринское', 'посёлок городского типа имени Морозова',\n",
       "       'посёлок Песочный', 'посёлок Сосново', 'деревня Аро',\n",
       "       'поселок Ильичёво', 'посёлок городского типа Тайцы',\n",
       "       'деревня Малое Верево', 'деревня Извара', 'поселок станции Вещево',\n",
       "       'село Паша', 'деревня Калитино',\n",
       "       'посёлок городского типа Ульяновка', 'деревня Чудской Бор',\n",
       "       'поселок городского типа Дубровка', 'деревня Мины',\n",
       "       'поселок Войсковицы', 'посёлок городского типа имени Свердлова',\n",
       "       'деревня Коркино', 'посёлок Ропша',\n",
       "       'поселок городского типа Приладожский', 'посёлок Щеглово',\n",
       "       'посёлок Гаврилово', 'Лодейное Поле', 'деревня Рабитицы',\n",
       "       'поселок городского типа Никольский', 'деревня Кузьмолово',\n",
       "       'деревня Малые Колпаны', 'поселок Тельмана',\n",
       "       'посёлок Петро-Славянка', 'городской посёлок Назия',\n",
       "       'посёлок Репино', 'посёлок Ильичёво', 'поселок Углово',\n",
       "       'поселок Старая Малукса', 'садовое товарищество Рахья',\n",
       "       'поселок Аннино', 'поселок Победа', 'деревня Меньково',\n",
       "       'деревня Старые Бегуницы', 'поселок Сапёрный', 'поселок Семрино',\n",
       "       'поселок Гаврилово', 'поселок Глажево', 'поселок Кобринское',\n",
       "       'деревня Гарболово', 'деревня Юкки',\n",
       "       'поселок станции Приветнинское', 'деревня Мануйлово',\n",
       "       'деревня Пчева', 'поселок Поляны', 'поселок Цвылёво',\n",
       "       'поселок Мельниково', 'посёлок Пудость', 'поселок Усть-Луга',\n",
       "       'Светогорск', 'Любань', 'поселок Селезнёво', 'Каменногорск',\n",
       "       'деревня Кривко', 'поселок Глебычево', 'деревня Парицы',\n",
       "       'поселок Жилпосёлок', 'посёлок городского типа Мга',\n",
       "       'посёлок Войскорово', 'село Никольское', 'посёлок Терволово',\n",
       "       'поселок Стеклянный', 'посёлок городского типа Важины',\n",
       "       'посёлок Мыза-Ивановка', 'село Русско-Высоцкое',\n",
       "       'поселок городского типа Лебяжье',\n",
       "       'поселок городского типа Форносово', 'село Старая Ладога',\n",
       "       'поселок Житково', 'городской посёлок Виллози', 'деревня Лампово',\n",
       "       'деревня Шпаньково', 'деревня Лаврики', 'поселок Сумино',\n",
       "       'посёлок Возрождение', 'деревня Старосиверская',\n",
       "       'посёлок Кикерино', 'поселок Возрождение',\n",
       "       'деревня Старое Хинколово', 'посёлок Пригородный',\n",
       "       'посёлок Торфяное', 'городской посёлок Будогощь',\n",
       "       'поселок Суходолье', 'поселок Красная Долина', 'деревня Хапо-Ое',\n",
       "       'поселок городского типа Дружная Горка', 'поселок Лисий Нос',\n",
       "       'деревня Яльгелево', 'посёлок Стеклянный', 'село Рождествено',\n",
       "       'деревня Старополье', 'посёлок Левашово', 'деревня Сяськелево',\n",
       "       'деревня Камышовка',\n",
       "       'садоводческое некоммерческое товарищество Лесная Поляна',\n",
       "       'деревня Хязельки', 'поселок Жилгородок',\n",
       "       'посёлок городского типа Павлово', 'деревня Ялгино',\n",
       "       'поселок Новый Учхоз', 'городской посёлок Рощино',\n",
       "       'поселок Гончарово', 'поселок Почап',\n",
       "       'посёлок Платформа 69-й километр', 'поселок Каложицы',\n",
       "       'деревня Фалилеево', 'деревня Пельгора',\n",
       "       'поселок городского типа Лесогорский', 'деревня Торошковичи',\n",
       "       'посёлок Белоостров', 'посёлок Алексеевка', 'поселок Серебрянский',\n",
       "       'поселок Лукаши', 'поселок Петровское', 'деревня Щеглово',\n",
       "       'поселок Мичуринское', 'деревня Тарасово', 'поселок Кингисеппский',\n",
       "       'посёлок при железнодорожной станции Вещево', 'поселок Ушаки',\n",
       "       'деревня Котлы', 'деревня Сижно', 'деревня Торосово',\n",
       "       'посёлок Форт Красная Горка', 'деревня Новолисино',\n",
       "       'посёлок станции Громово', 'деревня Глинка', 'посёлок Мельниково',\n",
       "       'поселок городского типа Назия', 'деревня Старая Пустошь',\n",
       "       'поселок Коммунары', 'поселок Починок',\n",
       "       'посёлок городского типа Вознесенье', 'деревня Разбегаево',\n",
       "       'поселок Гладкое',\n",
       "       'посёлок при железнодорожной станции Приветнинское',\n",
       "       'поселок Тёсово-4', 'посёлок Жилгородок', 'деревня Бор',\n",
       "       'посёлок Коробицыно', 'деревня Большая Вруда', 'деревня Курковицы',\n",
       "       'посёлок Лисий Нос', 'городской посёлок Советский',\n",
       "       'посёлок Кобралово', 'деревня Суоранда', 'поселок Кобралово',\n",
       "       'поселок городского типа Кондратьево',\n",
       "       'коттеджный поселок Счастье', 'поселок Любань', 'деревня Реброво',\n",
       "       'деревня Зимитицы', 'деревня Тойворово', 'поселок Семиозерье',\n",
       "       'поселок Лесное', 'поселок Совхозный', 'посёлок Ленинское',\n",
       "       'посёлок Суйда', 'посёлок городского типа Форносово',\n",
       "       'деревня Нижние Осельки', 'посёлок станции Свирь',\n",
       "       'поселок Перово', 'Высоцк', 'поселок Гарболово', 'село Шум',\n",
       "       'поселок Котельский', 'поселок станции Лужайка',\n",
       "       'деревня Большая Пустомержа', 'поселок Красносельское',\n",
       "       'деревня Вахнова Кара', 'деревня Пижма',\n",
       "       'коттеджный поселок Кивеннапа Север', 'поселок Коробицыно',\n",
       "       'поселок Ромашки', 'посёлок Перово', 'деревня Каськово',\n",
       "       'деревня Куровицы', 'посёлок Плоское',\n",
       "       'поселок городского типа Большая Ижора', 'поселок Кирпичное',\n",
       "       'деревня Ям-Тесово', 'деревня Раздолье', 'деревня Терпилицы',\n",
       "       'посёлок Шугозеро', 'деревня Ваганово', 'поселок Пушное',\n",
       "       'садовое товарищество Садко', 'посёлок Усть-Ижора',\n",
       "       'деревня Выскатка', 'городской посёлок Свирьстрой',\n",
       "       'поселок Громово', 'деревня Кисельня', 'посёлок Старая Малукса',\n",
       "       'деревня Трубников Бор', 'поселок Калитино',\n",
       "       'посёлок Высокоключевой', 'садовое товарищество Приладожский',\n",
       "       'посёлок Пансионат Зелёный Бор', 'деревня Ненимяки',\n",
       "       'поселок Пансионат Зелёный Бор', 'деревня Снегирёвка',\n",
       "       'деревня Рапполово', 'деревня Пустынка', 'поселок Рабитицы',\n",
       "       'деревня Большой Сабск', 'деревня Русско', 'деревня Лупполово',\n",
       "       'деревня Большое Рейзино', 'деревня Малая Романовка',\n",
       "       'поселок Дружноселье', 'поселок Пчевжа', 'поселок Володарское',\n",
       "       'деревня Нижняя', 'коттеджный посёлок Лесное', 'деревня Тихковицы',\n",
       "       'деревня Борисова Грива', 'посёлок Дзержинского'], dtype=object)"
      ]
     },
     "execution_count": 1036,
     "metadata": {},
     "output_type": "execute_result"
    }
   ],
   "source": [
    "data['location'].unique() # looks better"
   ]
  },
  {
   "cell_type": "markdown",
   "id": "2c2d387f",
   "metadata": {},
   "source": [
    "### 2.4 Finding anomalies in the DataFrame"
   ]
  },
  {
   "cell_type": "code",
   "execution_count": 1037,
   "id": "6a6cada1",
   "metadata": {},
   "outputs": [
    {
     "data": {
      "text/plain": [
       "Index(['total_images', 'last_price', 'total_area', 'first_day_exposition',\n",
       "       'rooms', 'ceiling_height', 'floors_total', 'living_area', 'floor',\n",
       "       'is_apartment', 'studio', 'open_plan', 'kitchen_area', 'balcony',\n",
       "       'locality_name', 'airports_nearest', 'cityCenters_nearest',\n",
       "       'parks_around3000', 'parks_nearest', 'ponds_around3000',\n",
       "       'ponds_nearest', 'days_exposition', 'date_time', 'local_time',\n",
       "       'location'],\n",
       "      dtype='object')"
      ]
     },
     "execution_count": 1037,
     "metadata": {},
     "output_type": "execute_result"
    }
   ],
   "source": [
    "data.columns"
   ]
  },
  {
   "cell_type": "markdown",
   "id": "d20e16f9",
   "metadata": {},
   "source": [
    "**Let's observe the data via histograms and check if there are any outstanding values to check closer such columns afterwards.**"
   ]
  },
  {
   "cell_type": "code",
   "execution_count": 1038,
   "id": "6f986a8c",
   "metadata": {},
   "outputs": [
    {
     "data": {
      "image/png": "[encoded data removed]",
      "text/plain": [
       "<Figure size 1080x1440 with 12 Axes>"
      ]
     },
     "metadata": {
      "needs_background": "light"
     },
     "output_type": "display_data"
    }
   ],
   "source": [
    "data.hist(bins=70, figsize=(15, 20)); # ';' ставим, чтобы убрать странные комментарии про массив"
   ]
  },
  {
   "cell_type": "markdown",
   "id": "51bd3ff1",
   "metadata": {},
   "source": [
    "#### 1) _'ceiling_height'_ anomalitiies"
   ]
  },
  {
   "cell_type": "code",
   "execution_count": 1039,
   "id": "500f4a46",
   "metadata": {},
   "outputs": [
    {
     "data": {
      "text/plain": [
       "count    23543.000000\n",
       "mean         2.734102\n",
       "std          1.012723\n",
       "min          1.000000\n",
       "25%          2.550000\n",
       "50%          2.700000\n",
       "75%          2.700000\n",
       "max        100.000000\n",
       "Name: ceiling_height, dtype: float64"
      ]
     },
     "execution_count": 1039,
     "metadata": {},
     "output_type": "execute_result"
    }
   ],
   "source": [
    "data['ceiling_height'].describe()\n",
    "# we can see that the maximum value = 100 which cannot be true"
   ]
  },
  {
   "cell_type": "code",
   "execution_count": 1040,
   "id": "95c95586",
   "metadata": {},
   "outputs": [
    {
     "name": "stdout",
     "output_type": "stream",
     "text": [
      "313       13.85\n",
      "355       25.00\n",
      "2158      27.00\n",
      "3148      32.00\n",
      "4643      25.00\n",
      "4876      27.00\n",
      "5076      24.00\n",
      "5246      27.00\n",
      "5669      26.00\n",
      "5807      27.00\n",
      "6246      25.00\n",
      "9379      25.00\n",
      "10067     13.85\n",
      "10069     13.85\n",
      "10773     27.00\n",
      "11285     25.00\n",
      "14382     25.00\n",
      "15061     14.00\n",
      "17496     20.00\n",
      "17857     27.00\n",
      "18545     25.00\n",
      "20478     27.00\n",
      "20507     22.60\n",
      "21377     27.50\n",
      "21824     27.00\n",
      "22309     10.30\n",
      "22336     32.00\n",
      "22869    100.00\n",
      "22938     27.00\n",
      "Name: ceiling_height, dtype: float64\n"
     ]
    }
   ],
   "source": [
    "print(data.query('ceiling_height > 10')['ceiling_height'])"
   ]
  },
  {
   "cell_type": "markdown",
   "id": "4fc69f9a",
   "metadata": {},
   "source": [
    "From the output above we can conclude that ceiling height contain some abnormal values, which should be better deleted."
   ]
  },
  {
   "cell_type": "code",
   "execution_count": 1041,
   "id": "9734b737",
   "metadata": {},
   "outputs": [
    {
     "name": "stdout",
     "output_type": "stream",
     "text": [
      "0        2.70\n",
      "1        2.63\n",
      "2        2.70\n",
      "3        2.70\n",
      "4        3.03\n",
      "         ... \n",
      "23694    3.70\n",
      "23695    2.50\n",
      "23696     NaN\n",
      "23697    3.00\n",
      "23698    2.50\n",
      "Name: ceiling_height, Length: 23698, dtype: float64\n"
     ]
    }
   ],
   "source": [
    "data = data.drop(data[data['ceiling_height'] == 100].index)\n",
    "print(data['ceiling_height'])"
   ]
  },
  {
   "cell_type": "markdown",
   "id": "27d77b86",
   "metadata": {},
   "source": [
    "**We can see that ceiling height = 100 m removed. For values from 20 to 40 we can assume that it was a sleeping-hand error while manully inserting the data. This issue with _'ceiling height'_ values can be easily fixed by dividing the existing values to 10.**"
   ]
  },
  {
   "cell_type": "code",
   "execution_count": 1042,
   "id": "dc627fd0",
   "metadata": {},
   "outputs": [
    {
     "data": {
      "text/html": [
       "<div>\n",
       "<style scoped>\n",
       "    .dataframe tbody tr th:only-of-type {\n",
       "        vertical-align: middle;\n",
       "    }\n",
       "\n",
       "    .dataframe tbody tr th {\n",
       "        vertical-align: top;\n",
       "    }\n",
       "\n",
       "    .dataframe thead th {\n",
       "        text-align: right;\n",
       "    }\n",
       "</style>\n",
       "<table border=\"1\" class=\"dataframe\">\n",
       "  <thead>\n",
       "    <tr style=\"text-align: right;\">\n",
       "      <th></th>\n",
       "      <th>total_images</th>\n",
       "      <th>last_price</th>\n",
       "      <th>total_area</th>\n",
       "      <th>first_day_exposition</th>\n",
       "      <th>rooms</th>\n",
       "      <th>ceiling_height</th>\n",
       "      <th>floors_total</th>\n",
       "      <th>living_area</th>\n",
       "      <th>floor</th>\n",
       "      <th>is_apartment</th>\n",
       "      <th>...</th>\n",
       "      <th>airports_nearest</th>\n",
       "      <th>cityCenters_nearest</th>\n",
       "      <th>parks_around3000</th>\n",
       "      <th>parks_nearest</th>\n",
       "      <th>ponds_around3000</th>\n",
       "      <th>ponds_nearest</th>\n",
       "      <th>days_exposition</th>\n",
       "      <th>date_time</th>\n",
       "      <th>local_time</th>\n",
       "      <th>location</th>\n",
       "    </tr>\n",
       "  </thead>\n",
       "  <tbody>\n",
       "  </tbody>\n",
       "</table>\n",
       "<p>0 rows × 25 columns</p>\n",
       "</div>"
      ],
      "text/plain": [
       "Empty DataFrame\n",
       "Columns: [total_images, last_price, total_area, first_day_exposition, rooms, ceiling_height, floors_total, living_area, floor, is_apartment, studio, open_plan, kitchen_area, balcony, locality_name, airports_nearest, cityCenters_nearest, parks_around3000, parks_nearest, ponds_around3000, ponds_nearest, days_exposition, date_time, local_time, location]\n",
       "Index: []\n",
       "\n",
       "[0 rows x 25 columns]"
      ]
     },
     "execution_count": 1042,
     "metadata": {},
     "output_type": "execute_result"
    },
    {
     "data": {
      "image/png": "[encoded data removed]",
      "text/plain": [
       "<Figure size 432x288 with 1 Axes>"
      ]
     },
     "metadata": {
      "needs_background": "light"
     },
     "output_type": "display_data"
    }
   ],
   "source": [
    "data.loc[data['ceiling_height'] >= 20, 'ceiling_height'] = data.loc[data['ceiling_height'] >= 20, 'ceiling_height'] / 10\n",
    "\n",
    "# def change_data(value):\n",
    "#     if value > 20:\n",
    "#         return value / 10\n",
    "#     return value\n",
    "\n",
    "# data['ceiling_height'] = data['ceiling_height'].apply(change_data)\n",
    "\n",
    "data['ceiling_height'].hist(); # checking if ceiling_height > 20 is gone\n",
    "\n",
    "a = data['ceiling_height'] > 20 # checking if ceiling_height > 20 is gone\n",
    "data[a]"
   ]
  },
  {
   "cell_type": "markdown",
   "id": "42f24872",
   "metadata": {},
   "source": [
    "Let's deal with the rest anomalies in the _'ceiling_height'_."
   ]
  },
  {
   "cell_type": "code",
   "execution_count": 1043,
   "id": "0020d672",
   "metadata": {},
   "outputs": [
    {
     "name": "stdout",
     "output_type": "stream",
     "text": [
      "464      5.2\n",
      "1026     5.3\n",
      "1388     5.6\n",
      "3474     8.0\n",
      "5863     8.3\n",
      "7578     5.5\n",
      "12628    5.3\n",
      "15743    8.0\n",
      "17442    8.0\n",
      "20264    6.0\n",
      "21227    5.8\n",
      "Name: ceiling_height, dtype: float64\n"
     ]
    }
   ],
   "source": [
    "print(data.query('ceiling_height > 5 and ceiling_height < 10')['ceiling_height'])"
   ]
  },
  {
   "cell_type": "code",
   "execution_count": 1044,
   "id": "dcf7de80",
   "metadata": {},
   "outputs": [],
   "source": [
    "data = data.drop(data[(data['ceiling_height'] > 5) & (data['ceiling_height'] < 10)].index)"
   ]
  },
  {
   "cell_type": "code",
   "execution_count": 1045,
   "id": "40b13e2b",
   "metadata": {},
   "outputs": [
    {
     "name": "stdout",
     "output_type": "stream",
     "text": [
      "5712     1.20\n",
      "16934    1.75\n",
      "22590    1.00\n",
      "Name: ceiling_height, dtype: float64\n"
     ]
    }
   ],
   "source": [
    "print(data.query('ceiling_height < 2')['ceiling_height'])"
   ]
  },
  {
   "cell_type": "code",
   "execution_count": 1046,
   "id": "c6c2016a",
   "metadata": {},
   "outputs": [
    {
     "name": "stdout",
     "output_type": "stream",
     "text": [
      "0        2.70\n",
      "1        2.63\n",
      "2        2.70\n",
      "3        2.70\n",
      "4        3.03\n",
      "         ... \n",
      "23694    3.70\n",
      "23695    2.50\n",
      "23696     NaN\n",
      "23697    3.00\n",
      "23698    2.50\n",
      "Name: ceiling_height, Length: 23684, dtype: float64\n"
     ]
    }
   ],
   "source": [
    "data = data.drop(data[data['ceiling_height'] < 2].index)\n",
    "print(data['ceiling_height'])"
   ]
  },
  {
   "cell_type": "code",
   "execution_count": 1047,
   "id": "247d4329",
   "metadata": {},
   "outputs": [
    {
     "name": "stdout",
     "output_type": "stream",
     "text": [
      "313      13.85\n",
      "10067    13.85\n",
      "10069    13.85\n",
      "15061    14.00\n",
      "22309    10.30\n",
      "Name: ceiling_height, dtype: float64\n"
     ]
    }
   ],
   "source": [
    "print(data.query('ceiling_height >= 10 and ceiling_height <=20 ')['ceiling_height'])"
   ]
  },
  {
   "cell_type": "code",
   "execution_count": 1048,
   "id": "478fd9da",
   "metadata": {},
   "outputs": [
    {
     "name": "stdout",
     "output_type": "stream",
     "text": [
      "0        2.70\n",
      "1        2.63\n",
      "2        2.70\n",
      "3        2.70\n",
      "4        3.03\n",
      "         ... \n",
      "23694    3.70\n",
      "23695    2.50\n",
      "23696     NaN\n",
      "23697    3.00\n",
      "23698    2.50\n",
      "Name: ceiling_height, Length: 23679, dtype: float64\n"
     ]
    }
   ],
   "source": [
    "data = data.drop(data[(data['ceiling_height'] >= 10) & (data['ceiling_height'] <= 20)].index)\n",
    "print(data['ceiling_height'])"
   ]
  },
  {
   "cell_type": "code",
   "execution_count": 920,
   "id": "3fd33111",
   "metadata": {},
   "outputs": [
    {
     "data": {
      "text/plain": [
       "count    23523.000000\n",
       "mean         2.703153\n",
       "std          0.221144\n",
       "min          2.000000\n",
       "25%          2.550000\n",
       "50%          2.700000\n",
       "75%          2.700000\n",
       "max          5.000000\n",
       "Name: ceiling_height, dtype: float64"
      ]
     },
     "execution_count": 920,
     "metadata": {},
     "output_type": "execute_result"
    }
   ],
   "source": [
    "data['ceiling_height'].describe()"
   ]
  },
  {
   "cell_type": "code",
   "execution_count": 921,
   "id": "3570168b",
   "metadata": {},
   "outputs": [
    {
     "name": "stdout",
     "output_type": "stream",
     "text": [
      "count    23523.000000\n",
      "mean         2.703153\n",
      "std          0.221144\n",
      "min          2.000000\n",
      "25%          2.550000\n",
      "50%          2.700000\n",
      "75%          2.700000\n",
      "max          5.000000\n",
      "Name: ceiling_height, dtype: float64\n"
     ]
    }
   ],
   "source": [
    "print(data['ceiling_height'].describe())"
   ]
  },
  {
   "cell_type": "code",
   "execution_count": 1049,
   "id": "71a3d109",
   "metadata": {},
   "outputs": [
    {
     "data": {
      "text/plain": [
       "156"
      ]
     },
     "execution_count": 1049,
     "metadata": {},
     "output_type": "execute_result"
    }
   ],
   "source": [
    "data['ceiling_height'].isna().sum() # let's check if there are NaN among 'ceiling_height' values"
   ]
  },
  {
   "cell_type": "code",
   "execution_count": 1050,
   "id": "aa159e38",
   "metadata": {},
   "outputs": [
    {
     "data": {
      "text/plain": [
       "116"
      ]
     },
     "execution_count": 1050,
     "metadata": {},
     "output_type": "execute_result"
    }
   ],
   "source": [
    "data['ceiling_height'] = data['ceiling_height'].fillna(data.groupby('location')['ceiling_height'].transform('median'))\n",
    "data['ceiling_height'].isna().sum() # looks OK 116 NaNs out of 24k observations is OK"
   ]
  },
  {
   "cell_type": "markdown",
   "id": "7794b9d2",
   "metadata": {},
   "source": [
    "**Ceiling height is now from 2 till 5 m, which looks adequate.**"
   ]
  },
  {
   "cell_type": "markdown",
   "id": "a01d4639",
   "metadata": {},
   "source": [
    "#### 2) _'total_images'_ anomalitiies"
   ]
  },
  {
   "cell_type": "code",
   "execution_count": 1051,
   "id": "87f47887",
   "metadata": {},
   "outputs": [
    {
     "data": {
      "text/plain": [
       "count    23679.000000\n",
       "mean         9.857638\n",
       "std          5.680476\n",
       "min          0.000000\n",
       "25%          6.000000\n",
       "50%          9.000000\n",
       "75%         14.000000\n",
       "max         50.000000\n",
       "Name: total_images, dtype: float64"
      ]
     },
     "execution_count": 1051,
     "metadata": {},
     "output_type": "execute_result"
    }
   ],
   "source": [
    "data['total_images'].describe()"
   ]
  },
  {
   "cell_type": "markdown",
   "id": "58cc981f",
   "metadata": {},
   "source": [
    "From the _'describe'_ output we can see that max value is really far from the median and mean. On the other hand, 20 images per apartment anouncement can be also the case."
   ]
  },
  {
   "cell_type": "markdown",
   "id": "50eabb45",
   "metadata": {},
   "source": [
    "From the above and below output we can see that the mean and the median are fairly close, meaning there might a tail in the distribution, but there outliers does not affect the median anyway."
   ]
  },
  {
   "cell_type": "code",
   "execution_count": 1052,
   "id": "07049f7c",
   "metadata": {},
   "outputs": [
    {
     "data": {
      "image/png": "[encoded data removed]",
      "text/plain": [
       "<Figure size 720x360 with 1 Axes>"
      ]
     },
     "metadata": {
      "needs_background": "light"
     },
     "output_type": "display_data"
    }
   ],
   "source": [
    "data['total_images'].hist(bins=30, range=(0, 50), figsize=(10, 5));"
   ]
  },
  {
   "cell_type": "code",
   "execution_count": 1053,
   "id": "0d0f7dbe",
   "metadata": {},
   "outputs": [
    {
     "data": {
      "image/png": "[encoded data removed]",
      "text/plain": [
       "<Figure size 432x288 with 1 Axes>"
      ]
     },
     "metadata": {
      "needs_background": "light"
     },
     "output_type": "display_data"
    }
   ],
   "source": [
    "data['total_images_ok'] = data['total_images'] < 20\n",
    "total_images_ok = data.pivot_table(index='location', values='total_images')\n",
    "\n",
    "total_images_ok.hist(bins=30); # 'total_images_ok' will be used for further analysis, number of images per ad is up to 20"
   ]
  },
  {
   "cell_type": "markdown",
   "id": "3c0f24a1",
   "metadata": {},
   "source": [
    "#### 3) _'last_price'_ anomalitiies check"
   ]
  },
  {
   "cell_type": "code",
   "execution_count": 1054,
   "id": "e35acf6c",
   "metadata": {},
   "outputs": [
    {
     "data": {
      "text/plain": [
       "count    2.367900e+04\n",
       "mean     6.525429e+06\n",
       "std      1.080924e+07\n",
       "min      1.219000e+04\n",
       "25%      3.400000e+06\n",
       "50%      4.650000e+06\n",
       "75%      6.799000e+06\n",
       "max      7.630000e+08\n",
       "Name: last_price, dtype: float64"
      ]
     },
     "execution_count": 1054,
     "metadata": {},
     "output_type": "execute_result"
    }
   ],
   "source": [
    "data['last_price'].describe()"
   ]
  },
  {
   "cell_type": "markdown",
   "id": "e878ac16",
   "metadata": {},
   "source": [
    "We can see that median is lower than mean, which means there is a long tain in the distribution."
   ]
  },
  {
   "cell_type": "code",
   "execution_count": 1055,
   "id": "8b72d137",
   "metadata": {},
   "outputs": [
    {
     "data": {
      "image/png": "[encoded data removed]",
      "text/plain": [
       "<Figure size 1080x360 with 1 Axes>"
      ]
     },
     "metadata": {
      "needs_background": "light"
     },
     "output_type": "display_data"
    }
   ],
   "source": [
    "data['last_price'].hist(bins=100, range=(500000, 10000000), figsize=(15, 5));"
   ]
  },
  {
   "cell_type": "code",
   "execution_count": 1056,
   "id": "2f48c8fa",
   "metadata": {},
   "outputs": [
    {
     "data": {
      "text/html": [
       "<div>\n",
       "<style scoped>\n",
       "    .dataframe tbody tr th:only-of-type {\n",
       "        vertical-align: middle;\n",
       "    }\n",
       "\n",
       "    .dataframe tbody tr th {\n",
       "        vertical-align: top;\n",
       "    }\n",
       "\n",
       "    .dataframe thead th {\n",
       "        text-align: right;\n",
       "    }\n",
       "</style>\n",
       "<table border=\"1\" class=\"dataframe\">\n",
       "  <thead>\n",
       "    <tr style=\"text-align: right;\">\n",
       "      <th></th>\n",
       "      <th>total_images</th>\n",
       "      <th>last_price</th>\n",
       "      <th>total_area</th>\n",
       "      <th>first_day_exposition</th>\n",
       "      <th>rooms</th>\n",
       "      <th>ceiling_height</th>\n",
       "      <th>floors_total</th>\n",
       "      <th>living_area</th>\n",
       "      <th>floor</th>\n",
       "      <th>is_apartment</th>\n",
       "      <th>...</th>\n",
       "      <th>cityCenters_nearest</th>\n",
       "      <th>parks_around3000</th>\n",
       "      <th>parks_nearest</th>\n",
       "      <th>ponds_around3000</th>\n",
       "      <th>ponds_nearest</th>\n",
       "      <th>days_exposition</th>\n",
       "      <th>date_time</th>\n",
       "      <th>local_time</th>\n",
       "      <th>location</th>\n",
       "      <th>total_images_ok</th>\n",
       "    </tr>\n",
       "  </thead>\n",
       "  <tbody>\n",
       "    <tr>\n",
       "      <th>8793</th>\n",
       "      <td>7</td>\n",
       "      <td>12190</td>\n",
       "      <td>109</td>\n",
       "      <td>2019-03-20T00:00:00</td>\n",
       "      <td>2</td>\n",
       "      <td>2.75</td>\n",
       "      <td>25.0</td>\n",
       "      <td>32.0</td>\n",
       "      <td>25</td>\n",
       "      <td>False</td>\n",
       "      <td>...</td>\n",
       "      <td>9176.0</td>\n",
       "      <td>1.0</td>\n",
       "      <td>805.0</td>\n",
       "      <td>0.0</td>\n",
       "      <td>False</td>\n",
       "      <td>8.0</td>\n",
       "      <td>2019-03-20</td>\n",
       "      <td>2019-03-20 03:00:00</td>\n",
       "      <td>Санкт-Петербург</td>\n",
       "      <td>True</td>\n",
       "    </tr>\n",
       "    <tr>\n",
       "      <th>17456</th>\n",
       "      <td>7</td>\n",
       "      <td>430000</td>\n",
       "      <td>30</td>\n",
       "      <td>2019-04-22T00:00:00</td>\n",
       "      <td>1</td>\n",
       "      <td>2.50</td>\n",
       "      <td>2.0</td>\n",
       "      <td>16.0</td>\n",
       "      <td>1</td>\n",
       "      <td>False</td>\n",
       "      <td>...</td>\n",
       "      <td>False</td>\n",
       "      <td>False</td>\n",
       "      <td>False</td>\n",
       "      <td>False</td>\n",
       "      <td>False</td>\n",
       "      <td>86.0</td>\n",
       "      <td>2019-04-22</td>\n",
       "      <td>2019-04-22 03:00:00</td>\n",
       "      <td>Сланцы</td>\n",
       "      <td>True</td>\n",
       "    </tr>\n",
       "    <tr>\n",
       "      <th>14911</th>\n",
       "      <td>5</td>\n",
       "      <td>430000</td>\n",
       "      <td>54</td>\n",
       "      <td>2018-06-26T00:00:00</td>\n",
       "      <td>2</td>\n",
       "      <td>NaN</td>\n",
       "      <td>3.0</td>\n",
       "      <td>30.0</td>\n",
       "      <td>3</td>\n",
       "      <td>False</td>\n",
       "      <td>...</td>\n",
       "      <td>False</td>\n",
       "      <td>False</td>\n",
       "      <td>False</td>\n",
       "      <td>False</td>\n",
       "      <td>False</td>\n",
       "      <td>44.0</td>\n",
       "      <td>2018-06-26</td>\n",
       "      <td>2018-06-26 03:00:00</td>\n",
       "      <td>посёлок станции Свирь</td>\n",
       "      <td>True</td>\n",
       "    </tr>\n",
       "    <tr>\n",
       "      <th>16274</th>\n",
       "      <td>18</td>\n",
       "      <td>440000</td>\n",
       "      <td>40</td>\n",
       "      <td>2018-07-10T00:00:00</td>\n",
       "      <td>1</td>\n",
       "      <td>NaN</td>\n",
       "      <td>5.0</td>\n",
       "      <td>30.3</td>\n",
       "      <td>1</td>\n",
       "      <td>False</td>\n",
       "      <td>...</td>\n",
       "      <td>False</td>\n",
       "      <td>False</td>\n",
       "      <td>False</td>\n",
       "      <td>False</td>\n",
       "      <td>False</td>\n",
       "      <td>45.0</td>\n",
       "      <td>2018-07-10</td>\n",
       "      <td>2018-07-10 03:00:00</td>\n",
       "      <td>деревня Старополье</td>\n",
       "      <td>True</td>\n",
       "    </tr>\n",
       "    <tr>\n",
       "      <th>17676</th>\n",
       "      <td>0</td>\n",
       "      <td>450000</td>\n",
       "      <td>36</td>\n",
       "      <td>2018-02-01T00:00:00</td>\n",
       "      <td>1</td>\n",
       "      <td>NaN</td>\n",
       "      <td>5.0</td>\n",
       "      <td>17.3</td>\n",
       "      <td>4</td>\n",
       "      <td>False</td>\n",
       "      <td>...</td>\n",
       "      <td>False</td>\n",
       "      <td>False</td>\n",
       "      <td>False</td>\n",
       "      <td>False</td>\n",
       "      <td>False</td>\n",
       "      <td>120.0</td>\n",
       "      <td>2018-02-01</td>\n",
       "      <td>2018-02-01 03:00:00</td>\n",
       "      <td>деревня Ям-Тесово</td>\n",
       "      <td>True</td>\n",
       "    </tr>\n",
       "    <tr>\n",
       "      <th>...</th>\n",
       "      <td>...</td>\n",
       "      <td>...</td>\n",
       "      <td>...</td>\n",
       "      <td>...</td>\n",
       "      <td>...</td>\n",
       "      <td>...</td>\n",
       "      <td>...</td>\n",
       "      <td>...</td>\n",
       "      <td>...</td>\n",
       "      <td>...</td>\n",
       "      <td>...</td>\n",
       "      <td>...</td>\n",
       "      <td>...</td>\n",
       "      <td>...</td>\n",
       "      <td>...</td>\n",
       "      <td>...</td>\n",
       "      <td>...</td>\n",
       "      <td>...</td>\n",
       "      <td>...</td>\n",
       "      <td>...</td>\n",
       "      <td>...</td>\n",
       "    </tr>\n",
       "    <tr>\n",
       "      <th>15651</th>\n",
       "      <td>20</td>\n",
       "      <td>300000000</td>\n",
       "      <td>618</td>\n",
       "      <td>2017-12-18T00:00:00</td>\n",
       "      <td>7</td>\n",
       "      <td>3.40</td>\n",
       "      <td>7.0</td>\n",
       "      <td>258.0</td>\n",
       "      <td>5</td>\n",
       "      <td>False</td>\n",
       "      <td>...</td>\n",
       "      <td>5297.0</td>\n",
       "      <td>0.0</td>\n",
       "      <td>False</td>\n",
       "      <td>2.0</td>\n",
       "      <td>198.0</td>\n",
       "      <td>111.0</td>\n",
       "      <td>2017-12-18</td>\n",
       "      <td>2017-12-18 03:00:00</td>\n",
       "      <td>Санкт-Петербург</td>\n",
       "      <td>False</td>\n",
       "    </tr>\n",
       "    <tr>\n",
       "      <th>1436</th>\n",
       "      <td>19</td>\n",
       "      <td>330000000</td>\n",
       "      <td>190</td>\n",
       "      <td>2018-04-04T00:00:00</td>\n",
       "      <td>3</td>\n",
       "      <td>3.50</td>\n",
       "      <td>7.0</td>\n",
       "      <td>95.0</td>\n",
       "      <td>5</td>\n",
       "      <td>False</td>\n",
       "      <td>...</td>\n",
       "      <td>1197.0</td>\n",
       "      <td>3.0</td>\n",
       "      <td>519.0</td>\n",
       "      <td>3.0</td>\n",
       "      <td>285.0</td>\n",
       "      <td>233.0</td>\n",
       "      <td>2018-04-04</td>\n",
       "      <td>2018-04-04 03:00:00</td>\n",
       "      <td>Санкт-Петербург</td>\n",
       "      <td>True</td>\n",
       "    </tr>\n",
       "    <tr>\n",
       "      <th>14706</th>\n",
       "      <td>15</td>\n",
       "      <td>401300000</td>\n",
       "      <td>401</td>\n",
       "      <td>2016-02-20T00:00:00</td>\n",
       "      <td>5</td>\n",
       "      <td>2.70</td>\n",
       "      <td>9.0</td>\n",
       "      <td>204.0</td>\n",
       "      <td>9</td>\n",
       "      <td>False</td>\n",
       "      <td>...</td>\n",
       "      <td>2389.0</td>\n",
       "      <td>1.0</td>\n",
       "      <td>545.0</td>\n",
       "      <td>1.0</td>\n",
       "      <td>478.0</td>\n",
       "      <td>393.0</td>\n",
       "      <td>2016-02-20</td>\n",
       "      <td>2016-02-20 03:00:00</td>\n",
       "      <td>Санкт-Петербург</td>\n",
       "      <td>True</td>\n",
       "    </tr>\n",
       "    <tr>\n",
       "      <th>19540</th>\n",
       "      <td>8</td>\n",
       "      <td>420000000</td>\n",
       "      <td>900</td>\n",
       "      <td>2017-12-06T00:00:00</td>\n",
       "      <td>12</td>\n",
       "      <td>2.80</td>\n",
       "      <td>25.0</td>\n",
       "      <td>409.7</td>\n",
       "      <td>25</td>\n",
       "      <td>False</td>\n",
       "      <td>...</td>\n",
       "      <td>7877.0</td>\n",
       "      <td>0.0</td>\n",
       "      <td>False</td>\n",
       "      <td>2.0</td>\n",
       "      <td>318.0</td>\n",
       "      <td>106.0</td>\n",
       "      <td>2017-12-06</td>\n",
       "      <td>2017-12-06 03:00:00</td>\n",
       "      <td>Санкт-Петербург</td>\n",
       "      <td>True</td>\n",
       "    </tr>\n",
       "    <tr>\n",
       "      <th>12971</th>\n",
       "      <td>19</td>\n",
       "      <td>763000000</td>\n",
       "      <td>400</td>\n",
       "      <td>2017-09-30T00:00:00</td>\n",
       "      <td>7</td>\n",
       "      <td>2.70</td>\n",
       "      <td>10.0</td>\n",
       "      <td>250.0</td>\n",
       "      <td>10</td>\n",
       "      <td>False</td>\n",
       "      <td>...</td>\n",
       "      <td>3956.0</td>\n",
       "      <td>1.0</td>\n",
       "      <td>530.0</td>\n",
       "      <td>3.0</td>\n",
       "      <td>756.0</td>\n",
       "      <td>33.0</td>\n",
       "      <td>2017-09-30</td>\n",
       "      <td>2017-09-30 03:00:00</td>\n",
       "      <td>Санкт-Петербург</td>\n",
       "      <td>True</td>\n",
       "    </tr>\n",
       "  </tbody>\n",
       "</table>\n",
       "<p>23679 rows × 26 columns</p>\n",
       "</div>"
      ],
      "text/plain": [
       "       total_images  last_price  total_area first_day_exposition  rooms  \\\n",
       "8793              7       12190         109  2019-03-20T00:00:00      2   \n",
       "17456             7      430000          30  2019-04-22T00:00:00      1   \n",
       "14911             5      430000          54  2018-06-26T00:00:00      2   \n",
       "16274            18      440000          40  2018-07-10T00:00:00      1   \n",
       "17676             0      450000          36  2018-02-01T00:00:00      1   \n",
       "...             ...         ...         ...                  ...    ...   \n",
       "15651            20   300000000         618  2017-12-18T00:00:00      7   \n",
       "1436             19   330000000         190  2018-04-04T00:00:00      3   \n",
       "14706            15   401300000         401  2016-02-20T00:00:00      5   \n",
       "19540             8   420000000         900  2017-12-06T00:00:00     12   \n",
       "12971            19   763000000         400  2017-09-30T00:00:00      7   \n",
       "\n",
       "       ceiling_height  floors_total  living_area  floor  is_apartment  ...  \\\n",
       "8793             2.75          25.0         32.0     25         False  ...   \n",
       "17456            2.50           2.0         16.0      1         False  ...   \n",
       "14911             NaN           3.0         30.0      3         False  ...   \n",
       "16274             NaN           5.0         30.3      1         False  ...   \n",
       "17676             NaN           5.0         17.3      4         False  ...   \n",
       "...               ...           ...          ...    ...           ...  ...   \n",
       "15651            3.40           7.0        258.0      5         False  ...   \n",
       "1436             3.50           7.0         95.0      5         False  ...   \n",
       "14706            2.70           9.0        204.0      9         False  ...   \n",
       "19540            2.80          25.0        409.7     25         False  ...   \n",
       "12971            2.70          10.0        250.0     10         False  ...   \n",
       "\n",
       "       cityCenters_nearest  parks_around3000  parks_nearest ponds_around3000  \\\n",
       "8793                9176.0               1.0          805.0              0.0   \n",
       "17456                False             False          False            False   \n",
       "14911                False             False          False            False   \n",
       "16274                False             False          False            False   \n",
       "17676                False             False          False            False   \n",
       "...                    ...               ...            ...              ...   \n",
       "15651               5297.0               0.0          False              2.0   \n",
       "1436                1197.0               3.0          519.0              3.0   \n",
       "14706               2389.0               1.0          545.0              1.0   \n",
       "19540               7877.0               0.0          False              2.0   \n",
       "12971               3956.0               1.0          530.0              3.0   \n",
       "\n",
       "      ponds_nearest days_exposition  date_time          local_time  \\\n",
       "8793          False             8.0 2019-03-20 2019-03-20 03:00:00   \n",
       "17456         False            86.0 2019-04-22 2019-04-22 03:00:00   \n",
       "14911         False            44.0 2018-06-26 2018-06-26 03:00:00   \n",
       "16274         False            45.0 2018-07-10 2018-07-10 03:00:00   \n",
       "17676         False           120.0 2018-02-01 2018-02-01 03:00:00   \n",
       "...             ...             ...        ...                 ...   \n",
       "15651         198.0           111.0 2017-12-18 2017-12-18 03:00:00   \n",
       "1436          285.0           233.0 2018-04-04 2018-04-04 03:00:00   \n",
       "14706         478.0           393.0 2016-02-20 2016-02-20 03:00:00   \n",
       "19540         318.0           106.0 2017-12-06 2017-12-06 03:00:00   \n",
       "12971         756.0            33.0 2017-09-30 2017-09-30 03:00:00   \n",
       "\n",
       "                    location total_images_ok  \n",
       "8793         Санкт-Петербург            True  \n",
       "17456                 Сланцы            True  \n",
       "14911  посёлок станции Свирь            True  \n",
       "16274     деревня Старополье            True  \n",
       "17676      деревня Ям-Тесово            True  \n",
       "...                      ...             ...  \n",
       "15651        Санкт-Петербург           False  \n",
       "1436         Санкт-Петербург            True  \n",
       "14706        Санкт-Петербург            True  \n",
       "19540        Санкт-Петербург            True  \n",
       "12971        Санкт-Петербург            True  \n",
       "\n",
       "[23679 rows x 26 columns]"
      ]
     },
     "execution_count": 1056,
     "metadata": {},
     "output_type": "execute_result"
    }
   ],
   "source": [
    "data.sort_values(by='last_price', ascending=True)"
   ]
  },
  {
   "cell_type": "markdown",
   "id": "afe7194f",
   "metadata": {},
   "source": [
    "The price = 12900 does not look adequate."
   ]
  },
  {
   "cell_type": "code",
   "execution_count": 1057,
   "id": "fb65b3c4",
   "metadata": {},
   "outputs": [
    {
     "name": "stdout",
     "output_type": "stream",
     "text": [
      "0        False\n",
      "1        False\n",
      "2        False\n",
      "3        False\n",
      "4        False\n",
      "         ...  \n",
      "23694    False\n",
      "23695    False\n",
      "23696    False\n",
      "23697    False\n",
      "23698    False\n",
      "Name: last_price, Length: 23679, dtype: bool\n"
     ]
    }
   ],
   "source": [
    "data = data.drop(data[data['last_price'] == 12900].index)\n",
    "print(data['last_price'] == 12900)"
   ]
  },
  {
   "cell_type": "code",
   "execution_count": 1058,
   "id": "e8a1d7d3",
   "metadata": {},
   "outputs": [
    {
     "data": {
      "image/png": "[encoded data removed]",
      "text/plain": [
       "<Figure size 720x360 with 1 Axes>"
      ]
     },
     "metadata": {
      "needs_background": "light"
     },
     "output_type": "display_data"
    }
   ],
   "source": [
    "data['last_price_ok'] = data['last_price'] < 20000000\n",
    "last_price_ok = data.pivot_table(index='location', values='last_price')\n",
    "\n",
    "last_price_ok.hist(bins=30, figsize=(10, 5)); # 'last_price_ok' will be used for further analysis, number of images per ad is up to 20"
   ]
  },
  {
   "cell_type": "markdown",
   "id": "98650b94",
   "metadata": {},
   "source": [
    "#### 4) _'total_area'_ anomalities check"
   ]
  },
  {
   "cell_type": "code",
   "execution_count": 1059,
   "id": "441b4d21",
   "metadata": {},
   "outputs": [
    {
     "data": {
      "text/plain": [
       "count    23679.000000\n",
       "mean        60.085561\n",
       "std         35.530713\n",
       "min         12.000000\n",
       "25%         40.000000\n",
       "50%         52.000000\n",
       "75%         69.000000\n",
       "max        900.000000\n",
       "Name: total_area, dtype: float64"
      ]
     },
     "execution_count": 1059,
     "metadata": {},
     "output_type": "execute_result"
    }
   ],
   "source": [
    "data['total_area'].describe() # looks ok since mean and median are fairly close"
   ]
  },
  {
   "cell_type": "code",
   "execution_count": 1060,
   "id": "dd430af1",
   "metadata": {},
   "outputs": [
    {
     "data": {
      "image/png": "[encoded data removed]",
      "text/plain": [
       "<Figure size 720x432 with 1 Axes>"
      ]
     },
     "metadata": {
      "needs_background": "light"
     },
     "output_type": "display_data"
    }
   ],
   "source": [
    "data['total_area'].hist(bins=30, range=(0, 400), figsize=(10, 6)); "
   ]
  },
  {
   "cell_type": "code",
   "execution_count": 1061,
   "id": "b9aac2b0",
   "metadata": {},
   "outputs": [
    {
     "name": "stdout",
     "output_type": "stream",
     "text": [
      "       total_area  last_price         location\n",
      "492           216    95000000  Санкт-Петербург\n",
      "509           225    90000000  Санкт-Петербург\n",
      "521           230    25717300           Пушкин\n",
      "681           249    24900000  Санкт-Петербург\n",
      "1187          201    25000000  Санкт-Петербург\n",
      "...           ...         ...              ...\n",
      "23005         297    30750000  Санкт-Петербург\n",
      "23281         231    24800000  Санкт-Петербург\n",
      "23327         215    34400000  Санкт-Петербург\n",
      "23400         213    30000000  Санкт-Петербург\n",
      "23491         250    21800000  Санкт-Петербург\n",
      "\n",
      "[123 rows x 3 columns]\n"
     ]
    }
   ],
   "source": [
    "print(data.query('total_area > 200 and total_area < 300 and last_price > 20000000')[['total_area', 'last_price', 'location']])\n",
    "\n",
    "# data.groupby('locality_name')['living_area']"
   ]
  },
  {
   "cell_type": "markdown",
   "id": "c6f63f5f",
   "metadata": {},
   "source": [
    "**Minimum square of the apartment is 12 sq. m, this looks quite adequate. Let's consider for this research project apartments up to 300 sq. m and up to 20 mln RUB as a benchmark for apartment in St. Petersburg.**"
   ]
  },
  {
   "cell_type": "code",
   "execution_count": 1062,
   "id": "39cf6c9d",
   "metadata": {},
   "outputs": [
    {
     "data": {
      "image/png": "[encoded data removed]",
      "text/plain": [
       "<Figure size 432x288 with 1 Axes>"
      ]
     },
     "metadata": {
      "needs_background": "light"
     },
     "output_type": "display_data"
    }
   ],
   "source": [
    "data['total_area_ok'] = data['total_area'] <= 300\n",
    "total_area_ok = data.pivot_table(index='location', values='total_area')\n",
    "\n",
    "total_area_ok.hist(bins=30); # 'total_are_ok' will be used for further analysis, number of images per ad is up to 20"
   ]
  },
  {
   "cell_type": "markdown",
   "id": "b6c4ee00",
   "metadata": {},
   "source": [
    "#### 5) _'rooms'_ anomalities check"
   ]
  },
  {
   "cell_type": "code",
   "execution_count": 1063,
   "id": "1e3a80de",
   "metadata": {},
   "outputs": [
    {
     "data": {
      "text/plain": [
       "array([ 3,  1,  2,  4,  5,  6,  0,  7, 11,  8, 14, 10, 15,  9, 19, 16, 12])"
      ]
     },
     "execution_count": 1063,
     "metadata": {},
     "output_type": "execute_result"
    }
   ],
   "source": [
    "data['rooms'].unique()"
   ]
  },
  {
   "cell_type": "code",
   "execution_count": 1064,
   "id": "7504becc",
   "metadata": {},
   "outputs": [
    {
     "data": {
      "text/plain": [
       "count    23679.000000\n",
       "mean         2.070442\n",
       "std          1.077857\n",
       "min          0.000000\n",
       "25%          1.000000\n",
       "50%          2.000000\n",
       "75%          3.000000\n",
       "max         19.000000\n",
       "Name: rooms, dtype: float64"
      ]
     },
     "execution_count": 1064,
     "metadata": {},
     "output_type": "execute_result"
    }
   ],
   "source": [
    "data['rooms'].describe()"
   ]
  },
  {
   "cell_type": "markdown",
   "id": "a95753a5",
   "metadata": {},
   "source": [
    "From the unique values for number of rooms we can see that some values are abnormal: 0 and those more 8 (keeping in mind that there a maximmun square for the research is 300 sq. m"
   ]
  },
  {
   "cell_type": "code",
   "execution_count": 1065,
   "id": "281f9089",
   "metadata": {},
   "outputs": [
    {
     "name": "stdout",
     "output_type": "stream",
     "text": [
      "[3 1 2 4 5 6 0 7]\n"
     ]
    }
   ],
   "source": [
    "data = data.drop(data[data['rooms'] >= 8].index)\n",
    "print(data['rooms'].unique())"
   ]
  },
  {
   "cell_type": "markdown",
   "id": "d8bfbf0f",
   "metadata": {},
   "source": [
    "#### 6) _'floors_total'_ anomalities check"
   ]
  },
  {
   "cell_type": "code",
   "execution_count": 1066,
   "id": "80c06e00",
   "metadata": {},
   "outputs": [
    {
     "data": {
      "text/plain": [
       "array([16., 11.,  5., 14., 12., 26., 24., 27.,  9.,  6., 17., 25.,  3.,\n",
       "       23., 19., 18.,  4., 22.,  8.,  2., 10.,  7., 13., 15., nan, 20.,\n",
       "       28., 36., 21., 35., 34., 60.,  1., 29., 33., 52.])"
      ]
     },
     "execution_count": 1066,
     "metadata": {},
     "output_type": "execute_result"
    }
   ],
   "source": [
    "data['floors_total'].unique()"
   ]
  },
  {
   "cell_type": "code",
   "execution_count": 1067,
   "id": "5466dd93",
   "metadata": {},
   "outputs": [
    {
     "data": {
      "text/plain": [
       "86"
      ]
     },
     "execution_count": 1067,
     "metadata": {},
     "output_type": "execute_result"
    }
   ],
   "source": [
    "data['floors_total'].isna().sum()"
   ]
  },
  {
   "cell_type": "markdown",
   "id": "b02d4195",
   "metadata": {},
   "source": [
    "The highest residential building in St. Petersburg is 37 floors. So, values above are abnormal. We remove them from the data set."
   ]
  },
  {
   "cell_type": "code",
   "execution_count": 1068,
   "id": "bf43ca9a",
   "metadata": {},
   "outputs": [
    {
     "name": "stdout",
     "output_type": "stream",
     "text": [
      "[16. 11.  5. 14. 12. 26. 24. 27.  9.  6. 17. 25.  3. 23. 19. 18.  4. 22.\n",
      "  8.  2. 10.  7. 13. 15. nan 20. 28. 36. 21. 35. 34.  1. 29. 33.]\n"
     ]
    }
   ],
   "source": [
    "data = data.drop(data[data['floors_total'] > 40].index)\n",
    "print(data['floors_total'].unique())"
   ]
  },
  {
   "cell_type": "markdown",
   "id": "42c5adf8",
   "metadata": {},
   "source": [
    "As for 86 missing values, we fill them in me median based on location."
   ]
  },
  {
   "cell_type": "code",
   "execution_count": 1069,
   "id": "65ccd8f8",
   "metadata": {},
   "outputs": [
    {
     "data": {
      "text/plain": [
       "0"
      ]
     },
     "execution_count": 1069,
     "metadata": {},
     "output_type": "execute_result"
    }
   ],
   "source": [
    "data['floors_total'] = data['floors_total'].fillna(data.groupby('location')['floors_total'].transform('median'))\n",
    "data['floors_total'].isna().sum()"
   ]
  },
  {
   "cell_type": "markdown",
   "id": "d9885030",
   "metadata": {},
   "source": [
    "#### 7) _'living_area'_ anomalities check"
   ]
  },
  {
   "cell_type": "markdown",
   "id": "99a54e26",
   "metadata": {},
   "source": [
    "Since we assumed above that the total area of the apartment is less than 300 sq. m, we thus have to drop living area also up to (300 sq. m - 10%) = 270 sq. m at least."
   ]
  },
  {
   "cell_type": "code",
   "execution_count": 1070,
   "id": "01b7cb5c",
   "metadata": {},
   "outputs": [
    {
     "data": {
      "text/plain": [
       "count    23624.000000\n",
       "mean        33.854507\n",
       "std         20.276112\n",
       "min          2.000000\n",
       "25%         19.000000\n",
       "50%         30.400000\n",
       "75%         41.000000\n",
       "max        347.500000\n",
       "Name: living_area, dtype: float64"
      ]
     },
     "execution_count": 1070,
     "metadata": {},
     "output_type": "execute_result"
    }
   ],
   "source": [
    "data['living_area'].describe()"
   ]
  },
  {
   "cell_type": "code",
   "execution_count": 1071,
   "id": "832e7cbf",
   "metadata": {},
   "outputs": [
    {
     "data": {
      "image/png": "[encoded data removed]",
      "text/plain": [
       "<Figure size 432x288 with 1 Axes>"
      ]
     },
     "metadata": {
      "needs_background": "light"
     },
     "output_type": "display_data"
    }
   ],
   "source": [
    "data['living_area_ok'] = data['living_area'] <= 270\n",
    "living_area_ok = data.pivot_table(index='location', values='living_area')\n",
    "\n",
    "living_area_ok.hist(bins=30); # 'total_are_ok' will be used for further analysis, number of images per ad is up to 20"
   ]
  },
  {
   "cell_type": "markdown",
   "id": "5bc81932",
   "metadata": {},
   "source": [
    "#### 8) _'floor'_ anomalities check"
   ]
  },
  {
   "cell_type": "code",
   "execution_count": 1072,
   "id": "335ddc5b",
   "metadata": {},
   "outputs": [
    {
     "data": {
      "text/plain": [
       "array([ 8,  1,  4,  9, 13,  5,  6, 22, 26,  7,  3,  2, 11, 15, 18, 10, 19,\n",
       "       16, 20, 27, 25, 17, 14, 12, 21, 28, 24, 23, 30, 29, 32, 33, 31])"
      ]
     },
     "execution_count": 1072,
     "metadata": {},
     "output_type": "execute_result"
    }
   ],
   "source": [
    "data['floor'].unique() # looks ok for further analysis"
   ]
  },
  {
   "cell_type": "markdown",
   "id": "931d0446",
   "metadata": {},
   "source": [
    "#### 9) _'kitchen_area'_ anomalities check"
   ]
  },
  {
   "cell_type": "code",
   "execution_count": 1073,
   "id": "6f8b6ceb",
   "metadata": {},
   "outputs": [
    {
     "data": {
      "text/plain": [
       "count    23618.000000\n",
       "mean        10.445475\n",
       "std          5.534252\n",
       "min          1.300000\n",
       "25%          7.200000\n",
       "50%          9.600000\n",
       "75%         11.407500\n",
       "max        107.000000\n",
       "Name: kitchen_area, dtype: float64"
      ]
     },
     "execution_count": 1073,
     "metadata": {},
     "output_type": "execute_result"
    }
   ],
   "source": [
    "data['kitchen_area'].describe()"
   ]
  },
  {
   "cell_type": "code",
   "execution_count": 1074,
   "id": "15a179d8",
   "metadata": {},
   "outputs": [
    {
     "data": {
      "image/png": "[encoded data removed]",
      "text/plain": [
       "<Figure size 720x432 with 1 Axes>"
      ]
     },
     "metadata": {
      "needs_background": "light"
     },
     "output_type": "display_data"
    }
   ],
   "source": [
    "data['kitchen_area'].hist(bins=100, range=(0, 100), figsize=(10, 6)); "
   ]
  },
  {
   "cell_type": "markdown",
   "id": "9faec295",
   "metadata": {},
   "source": [
    "_Keeping in mind that the smallest apartment is 12 sq. m, the kitchen 1.3 sq. m can be the case. The largest kitchen 107 sq. m looks also OK since the largest apartment assumed is 300 sq. m, and the kitchen in this case is 30% of the total area, which looks reasonable._"
   ]
  },
  {
   "cell_type": "markdown",
   "id": "0b24d9a2",
   "metadata": {},
   "source": [
    "#### 10) _'days_exposition'_ anomalities check"
   ]
  },
  {
   "cell_type": "code",
   "execution_count": 972,
   "id": "020934e5",
   "metadata": {},
   "outputs": [
    {
     "data": {
      "text/plain": [
       "count    23565.000000\n",
       "mean       170.116253\n",
       "std        206.929445\n",
       "min          1.000000\n",
       "25%         45.000000\n",
       "50%         95.000000\n",
       "75%        201.000000\n",
       "max       1580.000000\n",
       "Name: days_exposition, dtype: float64"
      ]
     },
     "execution_count": 972,
     "metadata": {},
     "output_type": "execute_result"
    }
   ],
   "source": [
    "data['days_exposition'].describe()"
   ]
  },
  {
   "cell_type": "markdown",
   "id": "1d2eb5a1",
   "metadata": {},
   "source": [
    "The range of advertisement length is from 1 day till 1580 days (around 7 years). Obviously, the data contain some anomalies. For this particular research let's keep the advertisemnt's length from 10 days till 366 days. This errors might happen for the following reasons:\n",
    "- people changed their mind and do not want to sell their apartment, so they deleted the advertisement in several days;\n",
    "- people (owners) have already sold the apartment and forgotten to delete the ad from the website;\n",
    "- people (owners) have chosen another website for selling and deleted the ad."
   ]
  },
  {
   "cell_type": "code",
   "execution_count": 1075,
   "id": "d9da6136",
   "metadata": {},
   "outputs": [
    {
     "name": "stdout",
     "output_type": "stream",
     "text": [
      "0         95.0\n",
      "1         81.0\n",
      "2        558.0\n",
      "3        424.0\n",
      "4        121.0\n",
      "         ...  \n",
      "23694     95.0\n",
      "23695     45.0\n",
      "23696     99.0\n",
      "23697    602.0\n",
      "23698    127.0\n",
      "Name: days_exposition, Length: 23646, dtype: float64\n"
     ]
    }
   ],
   "source": [
    "data = data.drop(data[(data['days_exposition'] < 10) & (data['days_exposition'] > 366)].index)\n",
    "print(data['days_exposition'])\n",
    "\n",
    "# days_exposition_ok = data.pivot_table(index='location', values='days_exposition_ok', aggfunc='median')\n",
    "\n",
    "#  days_exposition_ok.hist(bins=30, figsize=(10, 5));\n",
    "# print(data)"
   ]
  },
  {
   "cell_type": "markdown",
   "id": "dd52c699",
   "metadata": {},
   "source": [
    "**11) Distance to the city center anomalies**"
   ]
  },
  {
   "cell_type": "code",
   "execution_count": 1079,
   "id": "95606bd5",
   "metadata": {},
   "outputs": [
    {
     "data": {
      "text/plain": [
       "0        16028.0\n",
       "1        18603.0\n",
       "2        13933.0\n",
       "3         6800.0\n",
       "4         8098.0\n",
       "          ...   \n",
       "23694     4232.0\n",
       "23695      False\n",
       "23696      False\n",
       "23697    10364.0\n",
       "23698      False\n",
       "Name: cityCenters_nearest, Length: 23646, dtype: object"
      ]
     },
     "execution_count": 1079,
     "metadata": {},
     "output_type": "execute_result"
    }
   ],
   "source": [
    "data['cityCenters_nearest']"
   ]
  },
  {
   "cell_type": "code",
   "execution_count": 1076,
   "id": "49fdac8d",
   "metadata": {},
   "outputs": [
    {
     "data": {
      "image/png": "[encoded data removed]",
      "text/plain": [
       "<Figure size 1080x432 with 1 Axes>"
      ]
     },
     "metadata": {
      "needs_background": "light"
     },
     "output_type": "display_data"
    }
   ],
   "source": [
    "data['cityCenters_nearest'].hist(bins=30, figsize=(15, 6));"
   ]
  },
  {
   "cell_type": "markdown",
   "id": "8566cd90",
   "metadata": {},
   "source": [
    "Distance to the city center distribution has a long tail, a right-handed skewness (positive skewness)."
   ]
  },
  {
   "cell_type": "markdown",
   "id": "0173c3bd",
   "metadata": {},
   "source": [
    "### 2.5 Data manipulation"
   ]
  },
  {
   "cell_type": "markdown",
   "id": "7c62363d",
   "metadata": {},
   "source": [
    "Let's add useful columns in the dataframe:\n",
    "- price for 1 sq. m;\n",
    "- day of the week of ad publishing (0 — Monday, 1 — Tuesday, 2 - Wednesday, 3 - Thursday, 4 - Friday, 5 - Saturday, 6 - Sunday);\n",
    "- месяц публикации объявления;\n",
    "- год публикации объявления;\n",
    "- тип этажа квартиры (значения — «первый», «последний», «другой»);\n",
    "- расстояние до центра города в километрах (переведите из м в км и округлите до целых значений)."
   ]
  },
  {
   "cell_type": "code",
   "execution_count": 953,
   "id": "bed82008",
   "metadata": {},
   "outputs": [
    {
     "data": {
      "text/plain": [
       "Index(['total_images', 'last_price', 'total_area', 'first_day_exposition',\n",
       "       'rooms', 'ceiling_height', 'floors_total', 'living_area', 'floor',\n",
       "       'is_apartment', 'studio', 'open_plan', 'kitchen_area', 'balcony',\n",
       "       'locality_name', 'airports_nearest', 'cityCenters_nearest',\n",
       "       'parks_around3000', 'parks_nearest', 'ponds_around3000',\n",
       "       'ponds_nearest', 'days_exposition', 'date_time', 'local_time',\n",
       "       'location', 'total_images_ok', 'last_price_ok', 'total_area_ok',\n",
       "       'living_area_ok', 'days_exposition_ok'],\n",
       "      dtype='object')"
      ]
     },
     "execution_count": 953,
     "metadata": {},
     "output_type": "execute_result"
    }
   ],
   "source": [
    "data.columns"
   ]
  },
  {
   "cell_type": "markdown",
   "id": "164370f2",
   "metadata": {},
   "source": [
    "- **_price_ for 1 sq. m;**"
   ]
  },
  {
   "cell_type": "code",
   "execution_count": 954,
   "id": "f168cb92",
   "metadata": {},
   "outputs": [
    {
     "data": {
      "text/plain": [
       "0        120370\n",
       "1         83750\n",
       "2         92786\n",
       "3        408176\n",
       "4        100000\n",
       "          ...  \n",
       "23694     72932\n",
       "23695     52542\n",
       "23696     44643\n",
       "23697    150987\n",
       "23698     42188\n",
       "Name: price_per_square, Length: 23646, dtype: int64"
      ]
     },
     "execution_count": 954,
     "metadata": {},
     "output_type": "execute_result"
    }
   ],
   "source": [
    "data['price_per_square'] = (data['last_price'] / data['total_area']).round(0).astype(int)\n",
    "data['price_per_square']"
   ]
  },
  {
   "cell_type": "markdown",
   "id": "9075fd3e",
   "metadata": {},
   "source": [
    "- **_day of the week_ when the ad was published** (0 — Monday, 2 — Tuesday, 3 - Wednesday, 4 - Thursday, 5 - Friday, 6 - Saturday, 7 - Sunday);"
   ]
  },
  {
   "cell_type": "code",
   "execution_count": 955,
   "id": "5323553c",
   "metadata": {},
   "outputs": [
    {
     "data": {
      "text/plain": [
       "0        3\n",
       "1        1\n",
       "2        3\n",
       "3        4\n",
       "4        1\n",
       "        ..\n",
       "23694    1\n",
       "23695    0\n",
       "23696    6\n",
       "23697    1\n",
       "23698    4\n",
       "Name: day, Length: 23646, dtype: int64"
      ]
     },
     "execution_count": 955,
     "metadata": {},
     "output_type": "execute_result"
    }
   ],
   "source": [
    "data['day'] = data['date_time'].dt.dayofweek\n",
    "data['day']"
   ]
  },
  {
   "cell_type": "markdown",
   "id": "1bf12330",
   "metadata": {},
   "source": [
    "- **_month_ when the ad was published (месяц публикации объявления);**"
   ]
  },
  {
   "cell_type": "code",
   "execution_count": 956,
   "id": "a1cca219",
   "metadata": {},
   "outputs": [
    {
     "data": {
      "text/plain": [
       "0         3\n",
       "1        12\n",
       "2         8\n",
       "3         7\n",
       "4         6\n",
       "         ..\n",
       "23694     3\n",
       "23695     1\n",
       "23696     2\n",
       "23697     3\n",
       "23698     7\n",
       "Name: date_month, Length: 23646, dtype: int64"
      ]
     },
     "execution_count": 956,
     "metadata": {},
     "output_type": "execute_result"
    }
   ],
   "source": [
    "data['date_month'] = data['date_time'].dt.month\n",
    "data['date_month']"
   ]
  },
  {
   "cell_type": "markdown",
   "id": "8977be38",
   "metadata": {},
   "source": [
    "- **_year_ when the ad was published (год публикации объявления);**"
   ]
  },
  {
   "cell_type": "code",
   "execution_count": 1082,
   "id": "8a51f050",
   "metadata": {},
   "outputs": [
    {
     "data": {
      "text/plain": [
       "0        2019\n",
       "1        2018\n",
       "2        2015\n",
       "3        2015\n",
       "4        2018\n",
       "         ... \n",
       "23694    2017\n",
       "23695    2018\n",
       "23696    2018\n",
       "23697    2017\n",
       "23698    2017\n",
       "Name: date_year, Length: 23646, dtype: int64"
      ]
     },
     "execution_count": 1082,
     "metadata": {},
     "output_type": "execute_result"
    }
   ],
   "source": [
    "data['date_year'] = data['date_time'].dt.year\n",
    "data['date_year']"
   ]
  },
  {
   "cell_type": "code",
   "execution_count": 1083,
   "id": "b46d1535",
   "metadata": {},
   "outputs": [
    {
     "data": {
      "text/plain": [
       "0    2019-03-07 03:00:00\n",
       "1    2018-12-04 03:00:00\n",
       "2    2015-08-20 03:00:00\n",
       "3    2015-07-24 03:00:00\n",
       "4    2018-06-19 03:00:00\n",
       "             ...        \n",
       "95   2018-08-06 03:00:00\n",
       "96   2018-08-24 03:00:00\n",
       "97   2019-02-12 03:00:00\n",
       "98   2014-12-10 03:00:00\n",
       "99   2017-09-26 03:00:00\n",
       "Name: local_time, Length: 100, dtype: datetime64[ns]"
      ]
     },
     "execution_count": 1083,
     "metadata": {},
     "output_type": "execute_result"
    }
   ],
   "source": [
    "data['local_time'].head(100)"
   ]
  },
  {
   "cell_type": "markdown",
   "id": "9f2161ee",
   "metadata": {},
   "source": [
    "- **_floor type - \"first\", \"top\", \"other\"_ (тип этажа квартиры (значения — «первый», «последний», «другой»));**"
   ]
  },
  {
   "cell_type": "code",
   "execution_count": 1084,
   "id": "74bfba77",
   "metadata": {},
   "outputs": [
    {
     "name": "stdout",
     "output_type": "stream",
     "text": [
      "['другой' 'первый' 'последний']\n"
     ]
    }
   ],
   "source": [
    "def floor_type(row):\n",
    "    if row['floor'] == 1:\n",
    "        return 'первый'\n",
    "    if row['floor'] == row['floors_total']:\n",
    "        return 'последний'\n",
    "    return 'другой'\n",
    "\n",
    "\n",
    "data['floor_type'] = data.apply(floor_type, axis=1)\n",
    "\n",
    "print(data['floor_type'].unique()) # check how the floor_type() function works"
   ]
  },
  {
   "cell_type": "markdown",
   "id": "824181ec",
   "metadata": {},
   "source": [
    "- **_distance to the city centre_ (расстояние до центра города, м);**"
   ]
  },
  {
   "cell_type": "markdown",
   "id": "7b2e55a1",
   "metadata": {},
   "source": [
    "The variable _'cityCenters_nearest'_ is in metres. Let's divide it into 1000 to get in kilometres."
   ]
  },
  {
   "cell_type": "code",
   "execution_count": 255,
   "id": "946c0618",
   "metadata": {},
   "outputs": [
    {
     "data": {
      "text/plain": [
       "0        16.0\n",
       "1        19.0\n",
       "2        14.0\n",
       "3         7.0\n",
       "4         8.0\n",
       "         ... \n",
       "23694     4.0\n",
       "23695     NaN\n",
       "23696     NaN\n",
       "23697    10.0\n",
       "23698     NaN\n",
       "Name: city_center_km, Length: 23699, dtype: float64"
      ]
     },
     "execution_count": 255,
     "metadata": {},
     "output_type": "execute_result"
    }
   ],
   "source": [
    "data['city_center_km'] = data['cityCenters_nearest'] / 1000\n",
    "data['city_center_km'] = data['city_center_km'].round(0)\n",
    "data['city_center_km'] = data['city_center_km'].astype('int', errors='ignore')\n",
    "data['city_center_km']"
   ]
  },
  {
   "cell_type": "code",
   "execution_count": 260,
   "id": "33050990",
   "metadata": {},
   "outputs": [
    {
     "data": {
      "text/plain": [
       "count    18305.000000\n",
       "mean        14.224529\n",
       "std          8.633994\n",
       "min          0.000000\n",
       "25%          9.000000\n",
       "50%         13.000000\n",
       "75%         16.000000\n",
       "max         66.000000\n",
       "Name: city_center_km, dtype: float64"
      ]
     },
     "execution_count": 260,
     "metadata": {},
     "output_type": "execute_result"
    }
   ],
   "source": [
    "data['city_center_km'].describe()"
   ]
  },
  {
   "cell_type": "code",
   "execution_count": 258,
   "id": "f9f8979f",
   "metadata": {
    "scrolled": true
   },
   "outputs": [
    {
     "data": {
      "image/png": "[encoded data removed]",
      "text/plain": [
       "<Figure size 1080x648 with 1 Axes>"
      ]
     },
     "metadata": {
      "needs_background": "light"
     },
     "output_type": "display_data"
    }
   ],
   "source": [
    "data['city_center_km'].hist(bins=100, figsize=(15, 9));"
   ]
  },
  {
   "cell_type": "code",
   "execution_count": 263,
   "id": "2e470805",
   "metadata": {},
   "outputs": [],
   "source": [
    "# writing to csv\n",
    "data_cleared = data.to_csv('/Users/yuliabezginova/PycharmProjects/project-2_real_estate_SPb/real_estate_data_cleared.csv')"
   ]
  },
  {
   "cell_type": "markdown",
   "id": "20f615d7",
   "metadata": {},
   "source": [
    "## 3. Research Data Analysis"
   ]
  },
  {
   "cell_type": "markdown",
   "id": "dafe74d5",
   "metadata": {},
   "source": [
    "Let's describe the variables as follows:\n",
    "- measures of **central tendency**:\n",
    "    - mean;\n",
    "    - median;\n",
    "    - mode;\n",
    "- measures of **variability**:\n",
    "    - distribution shape;\n",
    "    - range;\n",
    "    - standard deviation;\n",
    "    - variance."
   ]
  },
  {
   "cell_type": "code",
   "execution_count": 802,
   "id": "ee2ac298",
   "metadata": {},
   "outputs": [
    {
     "data": {
      "text/plain": [
       "Index(['total_images', 'last_price', 'total_area', 'first_day_exposition',\n",
       "       'rooms', 'ceiling_height', 'floors_total', 'living_area', 'floor',\n",
       "       'is_apartment', 'studio', 'open_plan', 'kitchen_area', 'balcony',\n",
       "       'locality_name', 'airports_nearest', 'cityCenters_nearest',\n",
       "       'parks_around3000', 'parks_nearest', 'ponds_around3000',\n",
       "       'ponds_nearest', 'days_exposition', 'date_time', 'local_time'],\n",
       "      dtype='object')"
      ]
     },
     "execution_count": 802,
     "metadata": {},
     "output_type": "execute_result"
    }
   ],
   "source": [
    "data.columns"
   ]
  },
  {
   "cell_type": "markdown",
   "id": "9e567118",
   "metadata": {},
   "source": [
    "- **_distance to the city center_, km (расстояние до центра города в километрах)**"
   ]
  },
  {
   "cell_type": "markdown",
   "id": "e8e9242d",
   "metadata": {},
   "source": [
    "Distance in the column _'city_center_km'_ contains 23% of missins values."
   ]
  },
  {
   "cell_type": "code",
   "execution_count": 261,
   "id": "3698ab23",
   "metadata": {},
   "outputs": [
    {
     "data": {
      "text/plain": [
       "0.227604540275961"
      ]
     },
     "execution_count": 261,
     "metadata": {},
     "output_type": "execute_result"
    },
    {
     "data": {
      "image/png": "[encoded data removed]",
      "text/plain": [
       "<Figure size 1080x648 with 1 Axes>"
      ]
     },
     "metadata": {
      "needs_background": "light"
     },
     "output_type": "display_data"
    }
   ],
   "source": [
    "data['city_center_km'].hist(bins=100, figsize=(15, 9));\n",
    "data['city_center_km'].isna().sum() / len(data)"
   ]
  },
  {
   "cell_type": "code",
   "execution_count": null,
   "id": "9aa59a3b",
   "metadata": {},
   "outputs": [],
   "source": []
  },
  {
   "cell_type": "code",
   "execution_count": null,
   "id": "637b6877",
   "metadata": {},
   "outputs": [],
   "source": []
  },
  {
   "cell_type": "code",
   "execution_count": null,
   "id": "46696229",
   "metadata": {},
   "outputs": [],
   "source": []
  },
  {
   "cell_type": "code",
   "execution_count": null,
   "id": "b461ed32",
   "metadata": {},
   "outputs": [],
   "source": []
  },
  {
   "cell_type": "code",
   "execution_count": null,
   "id": "0c366874",
   "metadata": {},
   "outputs": [],
   "source": []
  },
  {
   "cell_type": "code",
   "execution_count": null,
   "id": "c8ef6d81",
   "metadata": {},
   "outputs": [],
   "source": []
  },
  {
   "cell_type": "code",
   "execution_count": null,
   "id": "45d64db1",
   "metadata": {},
   "outputs": [],
   "source": []
  },
  {
   "cell_type": "code",
   "execution_count": null,
   "id": "5a0755fd",
   "metadata": {},
   "outputs": [],
   "source": []
  },
  {
   "cell_type": "code",
   "execution_count": null,
   "id": "f8a139bf",
   "metadata": {},
   "outputs": [],
   "source": []
  },
  {
   "cell_type": "code",
   "execution_count": null,
   "id": "6d66a622",
   "metadata": {},
   "outputs": [],
   "source": []
  },
  {
   "cell_type": "code",
   "execution_count": null,
   "id": "bb89941a",
   "metadata": {},
   "outputs": [],
   "source": []
  }
 ],
 "metadata": {
  "kernelspec": {
   "display_name": "Python 3 (ipykernel)",
   "language": "python",
   "name": "python3"
  },
  "language_info": {
   "codemirror_mode": {
    "name": "ipython",
    "version": 3
   },
   "file_extension": ".py",
   "mimetype": "text/x-python",
   "name": "python",
   "nbconvert_exporter": "python",
   "pygments_lexer": "ipython3",
   "version": "3.9.7"
  }
 },
 "nbformat": 4,
 "nbformat_minor": 5
}
